{
 "cells": [
  {
   "cell_type": "markdown",
   "metadata": {},
   "source": [
    "### Question 1:\n",
    "Expand the basic code for building a DNN on the Pima Indian Diabetic Dataset to include:\n",
    "\n",
    "a. pre-process the data by scaling/standardizing the 8 columns\n",
    "\n",
    "b. Split the entire dataset into three parts instead of two as we currently do. One is train, two is validation, and then a test set. Build DNN model with train data, tune hyper-parameters with validation data, and finally evaluate performance on the test data.\n",
    "\n",
    "c. Make Epoch versus train set accuracy, and validation set accuracy\n",
    "\n",
    "d. Report results using nice ROC curves, report AUC values. Feel free to use code form our course, or from elsewhere"
   ]
  },
  {
   "cell_type": "code",
   "execution_count": null,
   "metadata": {},
   "outputs": [],
   "source": []
  },
  {
   "cell_type": "markdown",
   "metadata": {},
   "source": [
    "### Question 2:\n",
    "Train, tune and evaluate DNN model for the Black Friday sales Dataset. .https://www.kaggle.com/sdolezel/black-friday (Links to an external site.) It’s a regression problem and you need only one neuron in the final layer!!! Try all the above steps (for problem 1) on this one too."
   ]
  },
  {
   "cell_type": "code",
   "execution_count": null,
   "metadata": {},
   "outputs": [],
   "source": []
  }
 ],
 "metadata": {
  "kernelspec": {
   "display_name": "Python 3",
   "language": "python",
   "name": "python3"
  }
 },
 "nbformat": 4,
 "nbformat_minor": 4
}
