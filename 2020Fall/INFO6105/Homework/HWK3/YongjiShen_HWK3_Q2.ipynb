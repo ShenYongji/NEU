{
 "cells": [
  {
   "cell_type": "markdown",
   "metadata": {},
   "source": [
    "### Question 2:\n",
    "Please describe at least two ways of ensembling together DNNs and RFs. Take any dataset from Kaggle and (1) train an RF model, (2) train a DNN, and (3) a hybrid DNN and RF model. Provide detailed model and result comparisons. "
   ]
  },
  {
   "cell_type": "markdown",
   "metadata": {},
   "source": [
    "https://www.kaggle.com/ronitf/heart-disease-uci"
   ]
  },
  {
   "cell_type": "markdown",
   "metadata": {},
   "source": [
    "age\n",
    "\n",
    "sex\n",
    "\n",
    "chest pain type (4 values)\n",
    "\n",
    "resting blood pressure\n",
    "\n",
    "serum cholestoral in mg/dl\n",
    "\n",
    "fasting blood sugar > 120 mg/dl\n",
    "\n",
    "resting electrocardiographic results (values 0,1,2)\n",
    "\n",
    "maximum heart rate achieved\n",
    "\n",
    "exercise induced angina\n",
    "\n",
    "oldpeak = ST depression induced by exercise relative to rest\n",
    "\n",
    "the slope of the peak exercise ST segment\n",
    "\n",
    "number of major vessels (0-3) colored by flourosopy\n",
    "\n",
    "thal: 3 = normal; 6 = fixed defect; 7 = reversable defect"
   ]
  },
  {
   "cell_type": "code",
   "execution_count": 1,
   "metadata": {},
   "outputs": [],
   "source": [
    "from sklearn.model_selection import train_test_split\n",
    "from matplotlib import pyplot as plt\n",
    "from sklearn.metrics import accuracy_score,matthews_corrcoef,f1_score,classification_report,roc_curve,roc_auc_score,confusion_matrix\n",
    "import seaborn as sns\n",
    "import numpy as np\n",
    "import pandas as pd\n",
    "from keras.models import Sequential\n",
    "from keras.layers import Dense\n",
    "import warnings\n",
    "from imblearn.over_sampling import SMOTE\n",
    "from sklearn.ensemble import RandomForestClassifier\n",
    "from sklearn.ensemble import StackingClassifier\n",
    "from sklearn.ensemble import VotingClassifier\n",
    "from sklearn.linear_model import LogisticRegression\n",
    "from tensorflow.keras.wrappers.scikit_learn import KerasClassifier\n",
    "#warnings.filterwarnings(\"ignore\")\n",
    "\n",
    "%matplotlib inline"
   ]
  },
  {
   "cell_type": "code",
   "execution_count": 2,
   "metadata": {},
   "outputs": [
    {
     "name": "stdout",
     "output_type": "stream",
     "text": [
      "(303, 14)\n"
     ]
    },
    {
     "data": {
      "text/html": [
       "<div>\n",
       "<style scoped>\n",
       "    .dataframe tbody tr th:only-of-type {\n",
       "        vertical-align: middle;\n",
       "    }\n",
       "\n",
       "    .dataframe tbody tr th {\n",
       "        vertical-align: top;\n",
       "    }\n",
       "\n",
       "    .dataframe thead th {\n",
       "        text-align: right;\n",
       "    }\n",
       "</style>\n",
       "<table border=\"1\" class=\"dataframe\">\n",
       "  <thead>\n",
       "    <tr style=\"text-align: right;\">\n",
       "      <th></th>\n",
       "      <th>age</th>\n",
       "      <th>sex</th>\n",
       "      <th>cp</th>\n",
       "      <th>trestbps</th>\n",
       "      <th>chol</th>\n",
       "      <th>fbs</th>\n",
       "      <th>restecg</th>\n",
       "      <th>thalach</th>\n",
       "      <th>exang</th>\n",
       "      <th>oldpeak</th>\n",
       "      <th>slope</th>\n",
       "      <th>ca</th>\n",
       "      <th>thal</th>\n",
       "      <th>target</th>\n",
       "    </tr>\n",
       "  </thead>\n",
       "  <tbody>\n",
       "    <tr>\n",
       "      <th>0</th>\n",
       "      <td>63</td>\n",
       "      <td>1</td>\n",
       "      <td>3</td>\n",
       "      <td>145</td>\n",
       "      <td>233</td>\n",
       "      <td>1</td>\n",
       "      <td>0</td>\n",
       "      <td>150</td>\n",
       "      <td>0</td>\n",
       "      <td>2.3</td>\n",
       "      <td>0</td>\n",
       "      <td>0</td>\n",
       "      <td>1</td>\n",
       "      <td>1</td>\n",
       "    </tr>\n",
       "    <tr>\n",
       "      <th>1</th>\n",
       "      <td>37</td>\n",
       "      <td>1</td>\n",
       "      <td>2</td>\n",
       "      <td>130</td>\n",
       "      <td>250</td>\n",
       "      <td>0</td>\n",
       "      <td>1</td>\n",
       "      <td>187</td>\n",
       "      <td>0</td>\n",
       "      <td>3.5</td>\n",
       "      <td>0</td>\n",
       "      <td>0</td>\n",
       "      <td>2</td>\n",
       "      <td>1</td>\n",
       "    </tr>\n",
       "    <tr>\n",
       "      <th>2</th>\n",
       "      <td>41</td>\n",
       "      <td>0</td>\n",
       "      <td>1</td>\n",
       "      <td>130</td>\n",
       "      <td>204</td>\n",
       "      <td>0</td>\n",
       "      <td>0</td>\n",
       "      <td>172</td>\n",
       "      <td>0</td>\n",
       "      <td>1.4</td>\n",
       "      <td>2</td>\n",
       "      <td>0</td>\n",
       "      <td>2</td>\n",
       "      <td>1</td>\n",
       "    </tr>\n",
       "    <tr>\n",
       "      <th>3</th>\n",
       "      <td>56</td>\n",
       "      <td>1</td>\n",
       "      <td>1</td>\n",
       "      <td>120</td>\n",
       "      <td>236</td>\n",
       "      <td>0</td>\n",
       "      <td>1</td>\n",
       "      <td>178</td>\n",
       "      <td>0</td>\n",
       "      <td>0.8</td>\n",
       "      <td>2</td>\n",
       "      <td>0</td>\n",
       "      <td>2</td>\n",
       "      <td>1</td>\n",
       "    </tr>\n",
       "    <tr>\n",
       "      <th>4</th>\n",
       "      <td>57</td>\n",
       "      <td>0</td>\n",
       "      <td>0</td>\n",
       "      <td>120</td>\n",
       "      <td>354</td>\n",
       "      <td>0</td>\n",
       "      <td>1</td>\n",
       "      <td>163</td>\n",
       "      <td>1</td>\n",
       "      <td>0.6</td>\n",
       "      <td>2</td>\n",
       "      <td>0</td>\n",
       "      <td>2</td>\n",
       "      <td>1</td>\n",
       "    </tr>\n",
       "  </tbody>\n",
       "</table>\n",
       "</div>"
      ],
      "text/plain": [
       "   age  sex  cp  trestbps  chol  fbs  restecg  thalach  exang  oldpeak  slope  \\\n",
       "0   63    1   3       145   233    1        0      150      0      2.3      0   \n",
       "1   37    1   2       130   250    0        1      187      0      3.5      0   \n",
       "2   41    0   1       130   204    0        0      172      0      1.4      2   \n",
       "3   56    1   1       120   236    0        1      178      0      0.8      2   \n",
       "4   57    0   0       120   354    0        1      163      1      0.6      2   \n",
       "\n",
       "   ca  thal  target  \n",
       "0   0     1       1  \n",
       "1   0     2       1  \n",
       "2   0     2       1  \n",
       "3   0     2       1  \n",
       "4   0     2       1  "
      ]
     },
     "execution_count": 2,
     "metadata": {},
     "output_type": "execute_result"
    }
   ],
   "source": [
    "df = pd.read_csv('./YongjiShen_heart.csv')\n",
    "print(df.shape)\n",
    "df.head()"
   ]
  },
  {
   "cell_type": "markdown",
   "metadata": {},
   "source": [
    "### Pre-cleaning dataset"
   ]
  },
  {
   "cell_type": "code",
   "execution_count": 3,
   "metadata": {},
   "outputs": [
    {
     "data": {
      "text/plain": [
       "age         0\n",
       "sex         0\n",
       "cp          0\n",
       "trestbps    0\n",
       "chol        0\n",
       "fbs         0\n",
       "restecg     0\n",
       "thalach     0\n",
       "exang       0\n",
       "oldpeak     0\n",
       "slope       0\n",
       "ca          0\n",
       "thal        0\n",
       "target      0\n",
       "dtype: int64"
      ]
     },
     "execution_count": 3,
     "metadata": {},
     "output_type": "execute_result"
    }
   ],
   "source": [
    "df.isnull().sum()"
   ]
  },
  {
   "cell_type": "code",
   "execution_count": 4,
   "metadata": {},
   "outputs": [
    {
     "data": {
      "text/plain": [
       "(303, 14)"
      ]
     },
     "execution_count": 4,
     "metadata": {},
     "output_type": "execute_result"
    }
   ],
   "source": [
    "df.shape"
   ]
  },
  {
   "cell_type": "code",
   "execution_count": 5,
   "metadata": {},
   "outputs": [],
   "source": [
    "y = df[\"target\"]\n",
    "x = df.drop(\"target\",axis = 1)"
   ]
  },
  {
   "cell_type": "code",
   "execution_count": 6,
   "metadata": {},
   "outputs": [
    {
     "name": "stdout",
     "output_type": "stream",
     "text": [
      "(303, 13) (303,)\n"
     ]
    }
   ],
   "source": [
    "print(x.shape, y.shape)"
   ]
  },
  {
   "cell_type": "code",
   "execution_count": 10,
   "metadata": {},
   "outputs": [],
   "source": [
    "conclusion = dict()"
   ]
  },
  {
   "cell_type": "markdown",
   "metadata": {},
   "source": [
    "### Train an RF model"
   ]
  },
  {
   "cell_type": "code",
   "execution_count": 11,
   "metadata": {},
   "outputs": [
    {
     "name": "stdout",
     "output_type": "stream",
     "text": [
      "(211, 13) (46, 13) (46, 13)\n",
      "(211,) (46,) (46,)\n",
      "(234, 13) (234,)\n"
     ]
    }
   ],
   "source": [
    "x_train_valid,x_test,y_train_valid,y_test=train_test_split(x,y,test_size=0.15)\n",
    "x_train,x_valid,y_train,y_valid=train_test_split(x_train_valid,y_train_valid,test_size=x_test.shape[0]/x_train_valid.shape[0])\n",
    "print(x_train.shape, x_valid.shape,x_test.shape)\n",
    "print(y_train.shape, y_valid.shape,y_test.shape)\n",
    "sm = SMOTE(sampling_strategy = 1 ,k_neighbors = 5, random_state=1) \n",
    "x_train, y_train = sm.fit_sample(x_train, y_train.ravel())\n",
    "print(x_train.shape,y_train.shape)"
   ]
  },
  {
   "cell_type": "code",
   "execution_count": 12,
   "metadata": {},
   "outputs": [],
   "source": [
    "rf1_test_result =dict()\n",
    "for i in range(1,101,10):\n",
    "    rf_test_1 = RandomForestClassifier(criterion = 'entropy', random_state = 0, n_estimators = i)\n",
    "    rf_test_1.fit(x_train,y_train)\n",
    "    y_pred = rf_test_1.predict(x_valid)\n",
    "    rf1_test_result[i]=accuracy_score(y_valid,y_pred)"
   ]
  },
  {
   "cell_type": "code",
   "execution_count": 13,
   "metadata": {},
   "outputs": [],
   "source": [
    "result_df = pd.DataFrame(list(rf1_test_result.items()),columns = ['n_estimators', 'accuracy'])"
   ]
  },
  {
   "cell_type": "code",
   "execution_count": 14,
   "metadata": {},
   "outputs": [
    {
     "data": {
      "text/plain": [
       "[<matplotlib.lines.Line2D at 0x24967836448>]"
      ]
     },
     "execution_count": 14,
     "metadata": {},
     "output_type": "execute_result"
    },
    {
     "data": {
      "image/png": "[encoded data removed]",
      "text/plain": [
       "<Figure size 432x288 with 1 Axes>"
      ]
     },
     "metadata": {
      "needs_background": "light"
     },
     "output_type": "display_data"
    }
   ],
   "source": [
    "plt.title(\"n_estimators Vs accuracy\")\n",
    "plt.plot(result_df.n_estimators,result_df.accuracy,linestyle = '-',linewidth = 2, color = 'steelblue',marker = 'o',markersize = 6, markeredgecolor='black', markerfacecolor='brown') "
   ]
  },
  {
   "cell_type": "code",
   "execution_count": 15,
   "metadata": {},
   "outputs": [],
   "source": [
    "sorted_dict = sorted(rf1_test_result.items(), key=lambda x: x[1], reverse=True)"
   ]
  },
  {
   "cell_type": "code",
   "execution_count": 16,
   "metadata": {},
   "outputs": [
    {
     "data": {
      "text/plain": [
       "RandomForestClassifier(n_estimators=91, n_jobs=-1)"
      ]
     },
     "execution_count": 16,
     "metadata": {},
     "output_type": "execute_result"
    }
   ],
   "source": [
    "rf_1 = RandomForestClassifier(n_jobs = -1, n_estimators = sorted_dict[0][0],bootstrap = True)\n",
    "rf_1.fit(x_train,y_train)"
   ]
  },
  {
   "cell_type": "code",
   "execution_count": 17,
   "metadata": {},
   "outputs": [],
   "source": [
    "y_pred = rf_1.predict(x_test)"
   ]
  },
  {
   "cell_type": "code",
   "execution_count": 18,
   "metadata": {},
   "outputs": [
    {
     "data": {
      "text/plain": [
       "0.8478260869565217"
      ]
     },
     "execution_count": 18,
     "metadata": {},
     "output_type": "execute_result"
    }
   ],
   "source": [
    "accuracy_score(y_pred, y_test)"
   ]
  },
  {
   "cell_type": "code",
   "execution_count": 19,
   "metadata": {
    "scrolled": true
   },
   "outputs": [
    {
     "name": "stdout",
     "output_type": "stream",
     "text": [
      "              precision    recall  f1-score   support\n",
      "\n",
      "           0       0.79      0.83      0.81        18\n",
      "           1       0.89      0.86      0.87        28\n",
      "\n",
      "    accuracy                           0.85        46\n",
      "   macro avg       0.84      0.85      0.84        46\n",
      "weighted avg       0.85      0.85      0.85        46\n",
      "\n"
     ]
    }
   ],
   "source": [
    "print(classification_report(y_pred, y_test))"
   ]
  },
  {
   "cell_type": "code",
   "execution_count": 20,
   "metadata": {},
   "outputs": [
    {
     "data": {
      "text/plain": [
       "Text(50.99999999999999, 0.5, 'Predicted')"
      ]
     },
     "execution_count": 20,
     "metadata": {},
     "output_type": "execute_result"
    },
    {
     "data": {
      "image/png": "[encoded data removed]",
      "text/plain": [
       "<Figure size 576x432 with 2 Axes>"
      ]
     },
     "metadata": {
      "needs_background": "light"
     },
     "output_type": "display_data"
    }
   ],
   "source": [
    "c_mat = confusion_matrix(y_pred, y_test)\n",
    "c_mat_df = pd.DataFrame(c_mat)\n",
    "c_mat_df.columns = [\"No Heart Disease\",\"Heart Disease\"]\n",
    "c_mat_df.index = [\"No Heart Disease\",\"Heart Disease\"]\n",
    "c_mat_df = c_mat_df.T\n",
    "plt.figure(figsize = (8,6))\n",
    "sns.heatmap(c_mat_df,annot = True,fmt = 'g')\n",
    "plt.xlabel(\"Actual\")\n",
    "plt.ylabel(\"Predicted\")"
   ]
  },
  {
   "cell_type": "code",
   "execution_count": 21,
   "metadata": {},
   "outputs": [
    {
     "data": {
      "image/png": "[encoded data removed]",
      "text/plain": [
       "<Figure size 432x288 with 1 Axes>"
      ]
     },
     "metadata": {
      "needs_background": "light"
     },
     "output_type": "display_data"
    }
   ],
   "source": [
    "'''Receiver Operator Curve (ROC) and Area under the curve (AUC)'''\n",
    "fpr, tpr, thresholds = roc_curve(y_pred, y_test)\n",
    "plt.plot([0,1],[0,1],'k--')\n",
    "plt.plot(fpr, tpr, label='Knn')\n",
    "plt.xlabel('FP')\n",
    "plt.ylabel('Sensitivity')\n",
    "title = \"RandomForestClassifier\"\n",
    "plt.title(title)\n",
    "plt.show()"
   ]
  },
  {
   "cell_type": "code",
   "execution_count": 22,
   "metadata": {},
   "outputs": [
    {
     "data": {
      "text/plain": [
       "0.8452380952380952"
      ]
     },
     "execution_count": 22,
     "metadata": {},
     "output_type": "execute_result"
    }
   ],
   "source": [
    "roc_auc_score(y_pred, y_test)"
   ]
  },
  {
   "cell_type": "code",
   "execution_count": 23,
   "metadata": {},
   "outputs": [],
   "source": [
    "conclusion[\"RandomForestClassifier()\"]=accuracy_score(y_pred, y_test)"
   ]
  },
  {
   "cell_type": "markdown",
   "metadata": {},
   "source": [
    "### Train a DNN model"
   ]
  },
  {
   "cell_type": "code",
   "execution_count": 90,
   "metadata": {},
   "outputs": [
    {
     "name": "stdout",
     "output_type": "stream",
     "text": [
      "(211, 13) (46, 13) (46, 13)\n",
      "(211,) (46,) (46,)\n",
      "(240, 13) (240,)\n"
     ]
    }
   ],
   "source": [
    "x_train_valid,x_test,y_train_valid,y_test=train_test_split(x,y,test_size=0.15)\n",
    "x_train,x_valid,y_train,y_valid=train_test_split(x_train_valid,y_train_valid,test_size=x_test.shape[0]/x_train_valid.shape[0])\n",
    "print(x_train.shape, x_valid.shape,x_test.shape)\n",
    "print(y_train.shape, y_valid.shape,y_test.shape)\n",
    "sm = SMOTE(sampling_strategy = 1 ,k_neighbors = 5, random_state=1) \n",
    "x_train, y_train = sm.fit_sample(x_train, y_train.ravel())\n",
    "print(x_train.shape,y_train.shape)"
   ]
  },
  {
   "cell_type": "code",
   "execution_count": 91,
   "metadata": {},
   "outputs": [],
   "source": [
    "model = Sequential()\n",
    "model.add(Dense(30, input_dim=x_train.shape[1], activation='relu'))\n",
    "model.add(Dense(15, activation='relu'))\n",
    "model.add(Dense(5, activation='relu'))\n",
    "model.add(Dense(1, activation='sigmoid'))\n",
    "model.compile(loss='binary_crossentropy', optimizer='adam', metrics=['accuracy'])"
   ]
  },
  {
   "cell_type": "code",
   "execution_count": 92,
   "metadata": {},
   "outputs": [
    {
     "name": "stdout",
     "output_type": "stream",
     "text": [
      "Epoch 1/20\n",
      "48/48 [==============================] - 0s 2ms/step - loss: 6.4841 - accuracy: 0.5750 - val_loss: 1.3777 - val_accuracy: 0.6522\n",
      "Epoch 2/20\n",
      "48/48 [==============================] - 0s 831us/step - loss: 1.0904 - accuracy: 0.7000 - val_loss: 0.8684 - val_accuracy: 0.7391\n",
      "Epoch 3/20\n",
      "48/48 [==============================] - 0s 832us/step - loss: 0.8288 - accuracy: 0.6583 - val_loss: 1.0596 - val_accuracy: 0.6304\n",
      "Epoch 4/20\n",
      "48/48 [==============================] - 0s 810us/step - loss: 0.8084 - accuracy: 0.6625 - val_loss: 0.9039 - val_accuracy: 0.6739\n",
      "Epoch 5/20\n",
      "48/48 [==============================] - 0s 790us/step - loss: 0.6579 - accuracy: 0.7208 - val_loss: 0.7453 - val_accuracy: 0.6957\n",
      "Epoch 6/20\n",
      "48/48 [==============================] - 0s 834us/step - loss: 0.6622 - accuracy: 0.7042 - val_loss: 0.7968 - val_accuracy: 0.6957\n",
      "Epoch 7/20\n",
      "48/48 [==============================] - 0s 873us/step - loss: 0.6315 - accuracy: 0.6917 - val_loss: 0.6225 - val_accuracy: 0.7391\n",
      "Epoch 8/20\n",
      "48/48 [==============================] - 0s 831us/step - loss: 0.6100 - accuracy: 0.7042 - val_loss: 0.6415 - val_accuracy: 0.7391\n",
      "Epoch 9/20\n",
      "48/48 [==============================] - 0s 852us/step - loss: 0.6469 - accuracy: 0.7333 - val_loss: 0.6274 - val_accuracy: 0.6957\n",
      "Epoch 10/20\n",
      "48/48 [==============================] - 0s 831us/step - loss: 0.5748 - accuracy: 0.7417 - val_loss: 0.5402 - val_accuracy: 0.7609\n",
      "Epoch 11/20\n",
      "48/48 [==============================] - 0s 824us/step - loss: 0.5435 - accuracy: 0.7125 - val_loss: 0.5636 - val_accuracy: 0.7609\n",
      "Epoch 12/20\n",
      "48/48 [==============================] - 0s 831us/step - loss: 0.5643 - accuracy: 0.7375 - val_loss: 0.8950 - val_accuracy: 0.5652\n",
      "Epoch 13/20\n",
      "48/48 [==============================] - 0s 832us/step - loss: 0.5128 - accuracy: 0.7667 - val_loss: 0.6439 - val_accuracy: 0.7174\n",
      "Epoch 14/20\n",
      "48/48 [==============================] - 0s 810us/step - loss: 0.5543 - accuracy: 0.7250 - val_loss: 0.6879 - val_accuracy: 0.6739\n",
      "Epoch 15/20\n",
      "48/48 [==============================] - 0s 852us/step - loss: 0.5083 - accuracy: 0.7625 - val_loss: 0.5337 - val_accuracy: 0.7609\n",
      "Epoch 16/20\n",
      "48/48 [==============================] - 0s 808us/step - loss: 0.5197 - accuracy: 0.7750 - val_loss: 0.5201 - val_accuracy: 0.8043\n",
      "Epoch 17/20\n",
      "48/48 [==============================] - 0s 832us/step - loss: 0.5907 - accuracy: 0.7375 - val_loss: 0.6248 - val_accuracy: 0.7391\n",
      "Epoch 18/20\n",
      "48/48 [==============================] - 0s 862us/step - loss: 0.6930 - accuracy: 0.6958 - val_loss: 0.5413 - val_accuracy: 0.7174\n",
      "Epoch 19/20\n",
      "48/48 [==============================] - 0s 852us/step - loss: 0.4651 - accuracy: 0.7875 - val_loss: 0.4818 - val_accuracy: 0.7609\n",
      "Epoch 20/20\n",
      "48/48 [==============================] - 0s 831us/step - loss: 0.4482 - accuracy: 0.8000 - val_loss: 0.4832 - val_accuracy: 0.7826\n"
     ]
    }
   ],
   "source": [
    "model_history = model.fit(x_train, y_train, validation_data=(x_valid, y_valid),epochs=20, batch_size=5)"
   ]
  },
  {
   "cell_type": "code",
   "execution_count": 93,
   "metadata": {},
   "outputs": [
    {
     "data": {
      "text/html": [
       "<div>\n",
       "<style scoped>\n",
       "    .dataframe tbody tr th:only-of-type {\n",
       "        vertical-align: middle;\n",
       "    }\n",
       "\n",
       "    .dataframe tbody tr th {\n",
       "        vertical-align: top;\n",
       "    }\n",
       "\n",
       "    .dataframe thead th {\n",
       "        text-align: right;\n",
       "    }\n",
       "</style>\n",
       "<table border=\"1\" class=\"dataframe\">\n",
       "  <thead>\n",
       "    <tr style=\"text-align: right;\">\n",
       "      <th></th>\n",
       "      <th>index</th>\n",
       "      <th>loss</th>\n",
       "      <th>accuracy</th>\n",
       "      <th>val_loss</th>\n",
       "      <th>val_accuracy</th>\n",
       "    </tr>\n",
       "  </thead>\n",
       "  <tbody>\n",
       "    <tr>\n",
       "      <th>0</th>\n",
       "      <td>0</td>\n",
       "      <td>6.484144</td>\n",
       "      <td>0.575000</td>\n",
       "      <td>1.377667</td>\n",
       "      <td>0.652174</td>\n",
       "    </tr>\n",
       "    <tr>\n",
       "      <th>1</th>\n",
       "      <td>1</td>\n",
       "      <td>1.090389</td>\n",
       "      <td>0.700000</td>\n",
       "      <td>0.868434</td>\n",
       "      <td>0.739130</td>\n",
       "    </tr>\n",
       "    <tr>\n",
       "      <th>2</th>\n",
       "      <td>2</td>\n",
       "      <td>0.828800</td>\n",
       "      <td>0.658333</td>\n",
       "      <td>1.059558</td>\n",
       "      <td>0.630435</td>\n",
       "    </tr>\n",
       "    <tr>\n",
       "      <th>3</th>\n",
       "      <td>3</td>\n",
       "      <td>0.808448</td>\n",
       "      <td>0.662500</td>\n",
       "      <td>0.903916</td>\n",
       "      <td>0.673913</td>\n",
       "    </tr>\n",
       "    <tr>\n",
       "      <th>4</th>\n",
       "      <td>4</td>\n",
       "      <td>0.657872</td>\n",
       "      <td>0.720833</td>\n",
       "      <td>0.745322</td>\n",
       "      <td>0.695652</td>\n",
       "    </tr>\n",
       "  </tbody>\n",
       "</table>\n",
       "</div>"
      ],
      "text/plain": [
       "   index      loss  accuracy  val_loss  val_accuracy\n",
       "0      0  6.484144  0.575000  1.377667      0.652174\n",
       "1      1  1.090389  0.700000  0.868434      0.739130\n",
       "2      2  0.828800  0.658333  1.059558      0.630435\n",
       "3      3  0.808448  0.662500  0.903916      0.673913\n",
       "4      4  0.657872  0.720833  0.745322      0.695652"
      ]
     },
     "execution_count": 93,
     "metadata": {},
     "output_type": "execute_result"
    }
   ],
   "source": [
    "his_df = pd.DataFrame (model_history.history)\n",
    "his_df.reset_index(inplace=True)\n",
    "his_df.head()"
   ]
  },
  {
   "cell_type": "code",
   "execution_count": 94,
   "metadata": {},
   "outputs": [
    {
     "data": {
      "text/plain": [
       "<AxesSubplot:>"
      ]
     },
     "execution_count": 94,
     "metadata": {},
     "output_type": "execute_result"
    },
    {
     "data": {
      "image/png": "[encoded data removed]",
      "text/plain": [
       "<Figure size 432x288 with 1 Axes>"
      ]
     },
     "metadata": {
      "needs_background": "light"
     },
     "output_type": "display_data"
    }
   ],
   "source": [
    "sns.lineplot(data=(his_df[\"loss\"],his_df[\"val_loss\"]))"
   ]
  },
  {
   "cell_type": "code",
   "execution_count": 95,
   "metadata": {},
   "outputs": [
    {
     "data": {
      "text/plain": [
       "<AxesSubplot:>"
      ]
     },
     "execution_count": 95,
     "metadata": {},
     "output_type": "execute_result"
    },
    {
     "data": {
      "image/png": "[encoded data removed]",
      "text/plain": [
       "<Figure size 432x288 with 1 Axes>"
      ]
     },
     "metadata": {
      "needs_background": "light"
     },
     "output_type": "display_data"
    }
   ],
   "source": [
    "sns.lineplot(data=(his_df[\"accuracy\"],his_df[\"val_accuracy\"]))"
   ]
  },
  {
   "cell_type": "code",
   "execution_count": 96,
   "metadata": {},
   "outputs": [
    {
     "name": "stdout",
     "output_type": "stream",
     "text": [
      "1/2 [==============>...............] - ETA: 0s - loss: 0.4755 - accuracy: 0.6562WARNING:tensorflow:Callbacks method `on_test_batch_begin` is slow compared to the batch time (batch time: 0.0000s vs `on_test_batch_begin` time: 0.0010s). Check your callbacks.\n",
      "2/2 [==============================] - 0s 997us/step - loss: 0.4803 - accuracy: 0.6957\n"
     ]
    }
   ],
   "source": [
    "acc = model.evaluate(x_test,y_test)"
   ]
  },
  {
   "cell_type": "code",
   "execution_count": 97,
   "metadata": {},
   "outputs": [
    {
     "name": "stdout",
     "output_type": "stream",
     "text": [
      "              precision    recall  f1-score   support\n",
      "\n",
      "           0       0.83      0.67      0.74        30\n",
      "           1       0.55      0.75      0.63        16\n",
      "\n",
      "    accuracy                           0.70        46\n",
      "   macro avg       0.69      0.71      0.69        46\n",
      "weighted avg       0.73      0.70      0.70        46\n",
      "\n"
     ]
    }
   ],
   "source": [
    "y_test_pred = (model.predict(x_test) > 0.5).astype(\"int32\")\n",
    "print(classification_report(y_test, y_test_pred))"
   ]
  },
  {
   "cell_type": "code",
   "execution_count": 98,
   "metadata": {},
   "outputs": [
    {
     "data": {
      "text/plain": [
       "Text(50.99999999999999, 0.5, 'Predicted')"
      ]
     },
     "execution_count": 98,
     "metadata": {},
     "output_type": "execute_result"
    },
    {
     "data": {
      "image/png": "[encoded data removed]",
      "text/plain": [
       "<Figure size 576x432 with 2 Axes>"
      ]
     },
     "metadata": {
      "needs_background": "light"
     },
     "output_type": "display_data"
    }
   ],
   "source": [
    "c_mat = confusion_matrix(y_test, y_test_pred)\n",
    "c_mat_df = pd.DataFrame(c_mat)\n",
    "c_mat_df.columns = [\"No Heart Disease\",\"Heart Disease\"]\n",
    "c_mat_df.index = [\"No Heart Disease\",\"Heart Disease\"]\n",
    "c_mat_df = c_mat_df.T\n",
    "plt.figure(figsize = (8,6))\n",
    "sns.heatmap(c_mat_df,annot = True,fmt = 'g')\n",
    "plt.xlabel(\"Actual\")\n",
    "plt.ylabel(\"Predicted\")"
   ]
  },
  {
   "cell_type": "code",
   "execution_count": 99,
   "metadata": {},
   "outputs": [
    {
     "data": {
      "image/png": "[encoded data removed]",
      "text/plain": [
       "<Figure size 432x288 with 1 Axes>"
      ]
     },
     "metadata": {
      "needs_background": "light"
     },
     "output_type": "display_data"
    }
   ],
   "source": [
    "'''Receiver Operator Curve (ROC) and Area under the curve (AUC)'''\n",
    "fpr, tpr, thresholds = roc_curve(y_test, model.predict(x_test))\n",
    "plt.plot([0,1],[0,1],'k--')\n",
    "plt.plot(fpr, tpr, label='DNN')\n",
    "plt.xlabel('FP')\n",
    "plt.ylabel('Sensitivity')\n",
    "plt.title('DNN on test set')\n",
    "plt.show()"
   ]
  },
  {
   "cell_type": "code",
   "execution_count": 100,
   "metadata": {},
   "outputs": [
    {
     "data": {
      "text/plain": [
       "0.7083333333333334"
      ]
     },
     "execution_count": 100,
     "metadata": {},
     "output_type": "execute_result"
    }
   ],
   "source": [
    "roc_auc_score(y_test, y_test_pred)"
   ]
  },
  {
   "cell_type": "code",
   "execution_count": 101,
   "metadata": {},
   "outputs": [],
   "source": [
    "conclusion[\"DNN - Sequential()\"]=acc[1]"
   ]
  },
  {
   "cell_type": "markdown",
   "metadata": {},
   "source": [
    "### 3.Ways of ensembling together DNNs and RFs"
   ]
  },
  {
   "cell_type": "markdown",
   "metadata": {},
   "source": [
    "#### 1. Stacking"
   ]
  },
  {
   "cell_type": "code",
   "execution_count": 36,
   "metadata": {},
   "outputs": [
    {
     "name": "stdout",
     "output_type": "stream",
     "text": [
      "(211, 13) (46, 13) (46, 13)\n",
      "(211,) (46,) (46,)\n",
      "(234, 13) (234,)\n"
     ]
    }
   ],
   "source": [
    "x_train_valid,x_test,y_train_valid,y_test=train_test_split(x,y,test_size=0.15)\n",
    "x_train,x_valid,y_train,y_valid=train_test_split(x_train_valid,y_train_valid,test_size=x_test.shape[0]/x_train_valid.shape[0])\n",
    "print(x_train.shape, x_valid.shape,x_test.shape)\n",
    "print(y_train.shape, y_valid.shape,y_test.shape)\n",
    "sm = SMOTE(sampling_strategy = 1 ,k_neighbors = 5, random_state=1) \n",
    "x_train, y_train = sm.fit_sample(x_train, y_train.ravel())\n",
    "print(x_train.shape,y_train.shape)"
   ]
  },
  {
   "cell_type": "code",
   "execution_count": 37,
   "metadata": {},
   "outputs": [],
   "source": [
    "def create_model():\n",
    "    model = Sequential()\n",
    "    model.add(Dense(30, input_dim=x_train.shape[1], activation='relu'))\n",
    "    model.add(Dense(15, activation='relu'))\n",
    "    model.add(Dense(5, activation='relu'))\n",
    "    model.add(Dense(1, activation='sigmoid'))\n",
    "    model.compile(loss='binary_crossentropy', optimizer='adam', metrics=['accuracy'])\n",
    "    return model"
   ]
  },
  {
   "cell_type": "code",
   "execution_count": 38,
   "metadata": {},
   "outputs": [],
   "source": [
    "model = KerasClassifier(build_fn=create_model, epochs=150, batch_size=10, verbose=0)\n",
    "model._estimator_type = \"classifier\""
   ]
  },
  {
   "cell_type": "code",
   "execution_count": 39,
   "metadata": {},
   "outputs": [
    {
     "name": "stdout",
     "output_type": "stream",
     "text": [
      "WARNING:tensorflow:From d:\\python\\lib\\site-packages\\tensorflow\\python\\keras\\wrappers\\scikit_learn.py:264: Sequential.predict_proba (from tensorflow.python.keras.engine.sequential) is deprecated and will be removed after 2021-01-01.\n",
      "Instructions for updating:\n",
      "Please use `model.predict()` instead.\n"
     ]
    }
   ],
   "source": [
    "estimators = [('dnn',  model)]\n",
    "sclf_test_test_result =dict()\n",
    "for i in range(1,101,10):\n",
    "    sclf_test = StackingClassifier(estimators= estimators , \n",
    "                          final_estimator=RandomForestClassifier(criterion = 'entropy', random_state = 0, n_estimators = i)\n",
    "                         )\n",
    "    sclf_test.fit(x_train,y_train)\n",
    "    y_pred = sclf_test.predict(x_valid)\n",
    "    sclf_test_test_result[i]=accuracy_score(y_valid,y_pred)"
   ]
  },
  {
   "cell_type": "code",
   "execution_count": 40,
   "metadata": {},
   "outputs": [],
   "source": [
    "sclf_result_df = pd.DataFrame(list(sclf_test_test_result.items()),columns = ['n_estimators', 'accuracy'])"
   ]
  },
  {
   "cell_type": "code",
   "execution_count": 41,
   "metadata": {},
   "outputs": [
    {
     "data": {
      "text/plain": [
       "[<matplotlib.lines.Line2D at 0x24975a948c8>]"
      ]
     },
     "execution_count": 41,
     "metadata": {},
     "output_type": "execute_result"
    },
    {
     "data": {
      "image/png": "[encoded data removed]",
      "text/plain": [
       "<Figure size 432x288 with 1 Axes>"
      ]
     },
     "metadata": {
      "needs_background": "light"
     },
     "output_type": "display_data"
    }
   ],
   "source": [
    "plt.title(\"n_estimators Vs accuracy\")\n",
    "plt.plot(sclf_result_df.n_estimators,sclf_result_df.accuracy,linestyle = '-',linewidth = 2, color = 'steelblue',marker = 'o',markersize = 6, markeredgecolor='black', markerfacecolor='brown') "
   ]
  },
  {
   "cell_type": "code",
   "execution_count": 42,
   "metadata": {},
   "outputs": [],
   "source": [
    "sclf_sorted_dict = sorted(sclf_test_test_result.items(), key=lambda x: x[1], reverse=True)"
   ]
  },
  {
   "cell_type": "code",
   "execution_count": 43,
   "metadata": {},
   "outputs": [],
   "source": [
    "sclf = StackingClassifier(estimators= estimators , \n",
    "                          final_estimator=RandomForestClassifier(criterion = 'entropy', random_state = 0, n_estimators = sclf_sorted_dict[0][0])\n",
    "                         )"
   ]
  },
  {
   "cell_type": "code",
   "execution_count": 44,
   "metadata": {},
   "outputs": [
    {
     "data": {
      "text/plain": [
       "StackingClassifier(estimators=[('dnn',\n",
       "                                <tensorflow.python.keras.wrappers.scikit_learn.KerasClassifier object at 0x00000249722813C8>)],\n",
       "                   final_estimator=RandomForestClassifier(criterion='entropy',\n",
       "                                                          n_estimators=21,\n",
       "                                                          random_state=0))"
      ]
     },
     "execution_count": 44,
     "metadata": {},
     "output_type": "execute_result"
    }
   ],
   "source": [
    "sclf.fit(x_train,y_train)"
   ]
  },
  {
   "cell_type": "code",
   "execution_count": 45,
   "metadata": {},
   "outputs": [],
   "source": [
    "y_pred = sclf.predict(x_test)"
   ]
  },
  {
   "cell_type": "code",
   "execution_count": 46,
   "metadata": {},
   "outputs": [
    {
     "data": {
      "text/plain": [
       "0.7391304347826086"
      ]
     },
     "execution_count": 46,
     "metadata": {},
     "output_type": "execute_result"
    }
   ],
   "source": [
    "accuracy_score(y_pred, y_test)"
   ]
  },
  {
   "cell_type": "code",
   "execution_count": 47,
   "metadata": {
    "scrolled": true
   },
   "outputs": [
    {
     "name": "stdout",
     "output_type": "stream",
     "text": [
      "              precision    recall  f1-score   support\n",
      "\n",
      "           0       0.58      0.88      0.70        16\n",
      "           1       0.91      0.67      0.77        30\n",
      "\n",
      "    accuracy                           0.74        46\n",
      "   macro avg       0.75      0.77      0.73        46\n",
      "weighted avg       0.80      0.74      0.75        46\n",
      "\n"
     ]
    }
   ],
   "source": [
    "print(classification_report(y_pred, y_test))"
   ]
  },
  {
   "cell_type": "code",
   "execution_count": 48,
   "metadata": {},
   "outputs": [
    {
     "data": {
      "text/plain": [
       "Text(50.99999999999999, 0.5, 'Predicted')"
      ]
     },
     "execution_count": 48,
     "metadata": {},
     "output_type": "execute_result"
    },
    {
     "data": {
      "image/png": "[encoded data removed]",
      "text/plain": [
       "<Figure size 576x432 with 2 Axes>"
      ]
     },
     "metadata": {
      "needs_background": "light"
     },
     "output_type": "display_data"
    }
   ],
   "source": [
    "c_mat = confusion_matrix(y_pred, y_test)\n",
    "c_mat_df = pd.DataFrame(c_mat)\n",
    "c_mat_df.columns = [\"No Heart Disease\",\"Heart Disease\"]\n",
    "c_mat_df.index = [\"No Heart Disease\",\"Heart Disease\"]\n",
    "c_mat_df = c_mat_df.T\n",
    "plt.figure(figsize = (8,6))\n",
    "sns.heatmap(c_mat_df,annot = True,fmt = 'g')\n",
    "plt.xlabel(\"Actual\")\n",
    "plt.ylabel(\"Predicted\")"
   ]
  },
  {
   "cell_type": "code",
   "execution_count": 49,
   "metadata": {},
   "outputs": [
    {
     "data": {
      "image/png": "[encoded data removed]",
      "text/plain": [
       "<Figure size 432x288 with 1 Axes>"
      ]
     },
     "metadata": {
      "needs_background": "light"
     },
     "output_type": "display_data"
    }
   ],
   "source": [
    "'''Receiver Operator Curve (ROC) and Area under the curve (AUC)'''\n",
    "fpr, tpr, thresholds = roc_curve(y_pred, y_test)\n",
    "plt.plot([0,1],[0,1],'k--')\n",
    "plt.plot(fpr, tpr, label='Knn')\n",
    "plt.xlabel('FP')\n",
    "plt.ylabel('Sensitivity')\n",
    "title = \"Combine DNN and RF by Stacking\"\n",
    "plt.title(title)\n",
    "plt.show()"
   ]
  },
  {
   "cell_type": "code",
   "execution_count": 50,
   "metadata": {},
   "outputs": [
    {
     "data": {
      "text/plain": [
       "0.7708333333333333"
      ]
     },
     "execution_count": 50,
     "metadata": {},
     "output_type": "execute_result"
    }
   ],
   "source": [
    "roc_auc_score(y_pred, y_test)"
   ]
  },
  {
   "cell_type": "code",
   "execution_count": 51,
   "metadata": {},
   "outputs": [],
   "source": [
    "conclusion[\"StackingClassifier DNN+RF\"]=accuracy_score(y_pred, y_test)"
   ]
  },
  {
   "cell_type": "markdown",
   "metadata": {},
   "source": [
    "#### 2.Voting"
   ]
  },
  {
   "cell_type": "code",
   "execution_count": 52,
   "metadata": {},
   "outputs": [
    {
     "name": "stdout",
     "output_type": "stream",
     "text": [
      "(211, 13) (46, 13) (46, 13)\n",
      "(211,) (46,) (46,)\n",
      "(226, 13) (226,)\n"
     ]
    }
   ],
   "source": [
    "x_train_valid,x_test,y_train_valid,y_test=train_test_split(x,y,test_size=0.15)\n",
    "x_train,x_valid,y_train,y_valid=train_test_split(x_train_valid,y_train_valid,test_size=x_test.shape[0]/x_train_valid.shape[0])\n",
    "print(x_train.shape, x_valid.shape,x_test.shape)\n",
    "print(y_train.shape, y_valid.shape,y_test.shape)\n",
    "sm = SMOTE(sampling_strategy = 1 ,k_neighbors = 5, random_state=1) \n",
    "x_train, y_train = sm.fit_sample(x_train, y_train.ravel())\n",
    "print(x_train.shape,y_train.shape)"
   ]
  },
  {
   "cell_type": "code",
   "execution_count": 53,
   "metadata": {},
   "outputs": [],
   "source": [
    "def create_model():\n",
    "    model = Sequential()\n",
    "    model.add(Dense(30, input_dim=x_train.shape[1], activation='relu'))\n",
    "    model.add(Dense(15, activation='relu'))\n",
    "    model.add(Dense(5, activation='relu'))\n",
    "    model.add(Dense(1, activation='sigmoid'))\n",
    "    model.compile(loss='binary_crossentropy', optimizer='adam', metrics=['accuracy'])\n",
    "    return model"
   ]
  },
  {
   "cell_type": "code",
   "execution_count": 54,
   "metadata": {},
   "outputs": [],
   "source": [
    "model = KerasClassifier(build_fn=create_model, epochs=150, batch_size=10, verbose=0)\n",
    "model._estimator_type = \"classifier\""
   ]
  },
  {
   "cell_type": "code",
   "execution_count": 55,
   "metadata": {},
   "outputs": [],
   "source": [
    "voting_test_test_result =dict()\n",
    "for i in range(1,101,10):\n",
    "    Voting_test = VotingClassifier(\n",
    "        estimators=[(\"dnn\",model),\n",
    "                    ('rf', RandomForestClassifier(criterion = 'entropy', random_state = 0, n_estimators = i))\n",
    "                   ], \n",
    "        voting='soft'\n",
    "    )\n",
    "    Voting_test.fit(x_train,y_train)\n",
    "    y_pred = Voting_test.predict(x_valid)\n",
    "    voting_test_test_result[i]=accuracy_score(y_valid,y_pred)"
   ]
  },
  {
   "cell_type": "code",
   "execution_count": 56,
   "metadata": {},
   "outputs": [],
   "source": [
    "voting_result_df = pd.DataFrame(list(voting_test_test_result.items()),columns = ['n_estimators', 'accuracy'])"
   ]
  },
  {
   "cell_type": "code",
   "execution_count": 57,
   "metadata": {},
   "outputs": [
    {
     "data": {
      "text/plain": [
       "[<matplotlib.lines.Line2D at 0x24977f8b548>]"
      ]
     },
     "execution_count": 57,
     "metadata": {},
     "output_type": "execute_result"
    },
    {
     "data": {
      "image/png": "[encoded data removed]",
      "text/plain": [
       "<Figure size 432x288 with 1 Axes>"
      ]
     },
     "metadata": {
      "needs_background": "light"
     },
     "output_type": "display_data"
    }
   ],
   "source": [
    "plt.title(\"n_estimators Vs accuracy\")\n",
    "plt.plot(voting_result_df.n_estimators,voting_result_df.accuracy,linestyle = '-',linewidth = 2, color = 'steelblue',marker = 'o',markersize = 6, markeredgecolor='black', markerfacecolor='brown') "
   ]
  },
  {
   "cell_type": "code",
   "execution_count": 58,
   "metadata": {},
   "outputs": [],
   "source": [
    "voting_sorted_dict = sorted(voting_test_test_result.items(), key=lambda x: x[1], reverse=True)"
   ]
  },
  {
   "cell_type": "code",
   "execution_count": 59,
   "metadata": {},
   "outputs": [],
   "source": [
    "Voting = VotingClassifier(\n",
    "    estimators=[(\"dnn\",model),\n",
    "                ('rf', RandomForestClassifier(criterion = 'entropy', random_state = 0, n_estimators =voting_sorted_dict[0][0]))\n",
    "               ], \n",
    "    voting='soft'\n",
    ")"
   ]
  },
  {
   "cell_type": "code",
   "execution_count": 60,
   "metadata": {},
   "outputs": [
    {
     "data": {
      "text/plain": [
       "VotingClassifier(estimators=[('dnn',\n",
       "                              <tensorflow.python.keras.wrappers.scikit_learn.KerasClassifier object at 0x00000249734C4888>),\n",
       "                             ('rf',\n",
       "                              RandomForestClassifier(criterion='entropy',\n",
       "                                                     n_estimators=61,\n",
       "                                                     random_state=0))],\n",
       "                 voting='soft')"
      ]
     },
     "execution_count": 60,
     "metadata": {},
     "output_type": "execute_result"
    }
   ],
   "source": [
    "Voting.fit(x_train,y_train)"
   ]
  },
  {
   "cell_type": "code",
   "execution_count": 61,
   "metadata": {},
   "outputs": [],
   "source": [
    "y_pred = Voting.predict(x_test)"
   ]
  },
  {
   "cell_type": "code",
   "execution_count": 62,
   "metadata": {},
   "outputs": [
    {
     "data": {
      "text/plain": [
       "0.782608695652174"
      ]
     },
     "execution_count": 62,
     "metadata": {},
     "output_type": "execute_result"
    }
   ],
   "source": [
    "accuracy_score(y_pred, y_test)"
   ]
  },
  {
   "cell_type": "code",
   "execution_count": 63,
   "metadata": {},
   "outputs": [
    {
     "name": "stdout",
     "output_type": "stream",
     "text": [
      "              precision    recall  f1-score   support\n",
      "\n",
      "           0       0.75      0.75      0.75        20\n",
      "           1       0.81      0.81      0.81        26\n",
      "\n",
      "    accuracy                           0.78        46\n",
      "   macro avg       0.78      0.78      0.78        46\n",
      "weighted avg       0.78      0.78      0.78        46\n",
      "\n"
     ]
    }
   ],
   "source": [
    "print(classification_report(y_pred, y_test))"
   ]
  },
  {
   "cell_type": "code",
   "execution_count": 64,
   "metadata": {},
   "outputs": [
    {
     "data": {
      "text/plain": [
       "Text(50.99999999999999, 0.5, 'Predicted')"
      ]
     },
     "execution_count": 64,
     "metadata": {},
     "output_type": "execute_result"
    },
    {
     "data": {
      "image/png": "[encoded data removed]",
      "text/plain": [
       "<Figure size 576x432 with 2 Axes>"
      ]
     },
     "metadata": {
      "needs_background": "light"
     },
     "output_type": "display_data"
    }
   ],
   "source": [
    "c_mat = confusion_matrix(y_pred, y_test)\n",
    "c_mat_df = pd.DataFrame(c_mat)\n",
    "c_mat_df.columns = [\"No Heart Disease\",\"Heart Disease\"]\n",
    "c_mat_df.index = [\"No Heart Disease\",\"Heart Disease\"]\n",
    "c_mat_df = c_mat_df.T\n",
    "plt.figure(figsize = (8,6))\n",
    "sns.heatmap(c_mat_df,annot = True,fmt = 'g')\n",
    "plt.xlabel(\"Actual\")\n",
    "plt.ylabel(\"Predicted\")"
   ]
  },
  {
   "cell_type": "code",
   "execution_count": 65,
   "metadata": {},
   "outputs": [
    {
     "data": {
      "image/png": "[encoded data removed]",
      "text/plain": [
       "<Figure size 432x288 with 1 Axes>"
      ]
     },
     "metadata": {
      "needs_background": "light"
     },
     "output_type": "display_data"
    }
   ],
   "source": [
    "'''Receiver Operator Curve (ROC) and Area under the curve (AUC)'''\n",
    "fpr, tpr, thresholds = roc_curve(y_pred, y_test)\n",
    "plt.plot([0,1],[0,1],'k--')\n",
    "plt.plot(fpr, tpr, label='Knn')\n",
    "plt.xlabel('FP')\n",
    "plt.ylabel('Sensitivity')\n",
    "title = \"Combine DNN and RF by Voting\"\n",
    "plt.title(title)\n",
    "plt.show()"
   ]
  },
  {
   "cell_type": "code",
   "execution_count": 66,
   "metadata": {},
   "outputs": [
    {
     "data": {
      "text/plain": [
       "0.7788461538461539"
      ]
     },
     "execution_count": 66,
     "metadata": {},
     "output_type": "execute_result"
    }
   ],
   "source": [
    "roc_auc_score(y_pred, y_test)"
   ]
  },
  {
   "cell_type": "code",
   "execution_count": 67,
   "metadata": {},
   "outputs": [],
   "source": [
    "conclusion[\"VotingClassifier DNN+RF\"]=accuracy_score(y_pred, y_test)"
   ]
  },
  {
   "cell_type": "markdown",
   "metadata": {},
   "source": [
    "#### 3. Blending"
   ]
  },
  {
   "cell_type": "code",
   "execution_count": 68,
   "metadata": {},
   "outputs": [
    {
     "name": "stdout",
     "output_type": "stream",
     "text": [
      "(211, 13) (46, 13) (46, 13)\n",
      "(211,) (46,) (46,)\n",
      "(244, 13) (244,)\n"
     ]
    }
   ],
   "source": [
    "x_train_valid,x_test,y_train_valid,y_test=train_test_split(x,y,test_size=0.15)\n",
    "x_train,x_valid,y_train,y_valid=train_test_split(x_train_valid,y_train_valid,test_size=x_test.shape[0]/x_train_valid.shape[0])\n",
    "print(x_train.shape, x_valid.shape,x_test.shape)\n",
    "print(y_train.shape, y_valid.shape,y_test.shape)\n",
    "sm = SMOTE(sampling_strategy = 1 ,k_neighbors = 5, random_state=1) \n",
    "x_train, y_train = sm.fit_sample(x_train, y_train.ravel())\n",
    "print(x_train.shape,y_train.shape)"
   ]
  },
  {
   "cell_type": "code",
   "execution_count": 69,
   "metadata": {},
   "outputs": [],
   "source": [
    "model = Sequential()\n",
    "model.add(Dense(30, input_dim=x_train.shape[1], activation='relu'))\n",
    "model.add(Dense(15, activation='relu'))\n",
    "model.add(Dense(5, activation='relu'))\n",
    "model.add(Dense(1, activation='sigmoid'))\n",
    "model.compile(loss='binary_crossentropy', optimizer='adam', metrics=['accuracy'])"
   ]
  },
  {
   "cell_type": "code",
   "execution_count": 70,
   "metadata": {},
   "outputs": [
    {
     "name": "stdout",
     "output_type": "stream",
     "text": [
      "Epoch 1/20\n",
      "49/49 [==============================] - 0s 2ms/step - loss: 2.4819 - accuracy: 0.5000 - val_loss: 0.7436 - val_accuracy: 0.4783\n",
      "Epoch 2/20\n",
      "49/49 [==============================] - 0s 773us/step - loss: 0.6905 - accuracy: 0.5000 - val_loss: 0.6895 - val_accuracy: 0.4783\n",
      "Epoch 3/20\n",
      "49/49 [==============================] - 0s 814us/step - loss: 0.6754 - accuracy: 0.5123 - val_loss: 0.6850 - val_accuracy: 0.5000\n",
      "Epoch 4/20\n",
      "49/49 [==============================] - 0s 855us/step - loss: 0.6682 - accuracy: 0.5574 - val_loss: 0.6715 - val_accuracy: 0.6304\n",
      "Epoch 5/20\n",
      "49/49 [==============================] - 0s 814us/step - loss: 0.6514 - accuracy: 0.6189 - val_loss: 0.6663 - val_accuracy: 0.6522\n",
      "Epoch 6/20\n",
      "49/49 [==============================] - 0s 834us/step - loss: 0.6344 - accuracy: 0.6639 - val_loss: 0.6660 - val_accuracy: 0.6087\n",
      "Epoch 7/20\n",
      "49/49 [==============================] - 0s 835us/step - loss: 0.6268 - accuracy: 0.6721 - val_loss: 0.6681 - val_accuracy: 0.6304\n",
      "Epoch 8/20\n",
      "49/49 [==============================] - 0s 814us/step - loss: 0.6273 - accuracy: 0.6680 - val_loss: 0.6754 - val_accuracy: 0.5870\n",
      "Epoch 9/20\n",
      "49/49 [==============================] - 0s 834us/step - loss: 0.6168 - accuracy: 0.7008 - val_loss: 0.7132 - val_accuracy: 0.5435\n",
      "Epoch 10/20\n",
      "49/49 [==============================] - 0s 834us/step - loss: 0.6151 - accuracy: 0.6844 - val_loss: 0.6483 - val_accuracy: 0.6522\n",
      "Epoch 11/20\n",
      "49/49 [==============================] - 0s 855us/step - loss: 0.6274 - accuracy: 0.6639 - val_loss: 0.6491 - val_accuracy: 0.6522\n",
      "Epoch 12/20\n",
      "49/49 [==============================] - 0s 855us/step - loss: 0.6142 - accuracy: 0.6721 - val_loss: 0.6490 - val_accuracy: 0.6304\n",
      "Epoch 13/20\n",
      "49/49 [==============================] - 0s 794us/step - loss: 0.6151 - accuracy: 0.6598 - val_loss: 0.6422 - val_accuracy: 0.6957\n",
      "Epoch 14/20\n",
      "49/49 [==============================] - 0s 855us/step - loss: 0.6007 - accuracy: 0.6967 - val_loss: 0.6604 - val_accuracy: 0.6522\n",
      "Epoch 15/20\n",
      "49/49 [==============================] - 0s 875us/step - loss: 0.6184 - accuracy: 0.6680 - val_loss: 0.6397 - val_accuracy: 0.6522\n",
      "Epoch 16/20\n",
      "49/49 [==============================] - 0s 855us/step - loss: 0.5940 - accuracy: 0.7090 - val_loss: 0.6322 - val_accuracy: 0.6739\n",
      "Epoch 17/20\n",
      "49/49 [==============================] - 0s 875us/step - loss: 0.5977 - accuracy: 0.6926 - val_loss: 0.6295 - val_accuracy: 0.6957\n",
      "Epoch 18/20\n",
      "49/49 [==============================] - 0s 875us/step - loss: 0.6130 - accuracy: 0.6803 - val_loss: 0.6402 - val_accuracy: 0.6304\n",
      "Epoch 19/20\n",
      "49/49 [==============================] - 0s 855us/step - loss: 0.5941 - accuracy: 0.6967 - val_loss: 0.6257 - val_accuracy: 0.6957\n",
      "Epoch 20/20\n",
      "49/49 [==============================] - ETA: 0s - loss: 0.6658 - accuracy: 0.40 - 0s 855us/step - loss: 0.5816 - accuracy: 0.7254 - val_loss: 0.6272 - val_accuracy: 0.6957\n"
     ]
    },
    {
     "data": {
      "text/plain": [
       "<tensorflow.python.keras.callbacks.History at 0x2497a2d0108>"
      ]
     },
     "execution_count": 70,
     "metadata": {},
     "output_type": "execute_result"
    }
   ],
   "source": [
    "model.fit(x_train, y_train, validation_data=(x_valid, y_valid),epochs=20, batch_size=5)"
   ]
  },
  {
   "cell_type": "code",
   "execution_count": 71,
   "metadata": {},
   "outputs": [],
   "source": [
    "blend_rf = dict()\n",
    "for i in range(1,101,10):\n",
    "    rfc_test = RandomForestClassifier(criterion = 'entropy', random_state = 0, n_estimators = i)\n",
    "    rfc_test.fit(x_train,y_train)\n",
    "    y_pred = rfc_test.predict(x_valid)\n",
    "    blend_rf[i]=accuracy_score(y_valid,y_pred)\n",
    "\n",
    "blend_rf_dict = sorted(blend_rf.items(), key=lambda x: x[1], reverse=True)"
   ]
  },
  {
   "cell_type": "code",
   "execution_count": 72,
   "metadata": {},
   "outputs": [
    {
     "data": {
      "text/plain": [
       "RandomForestClassifier(criterion='entropy', n_estimators=21, random_state=0)"
      ]
     },
     "execution_count": 72,
     "metadata": {},
     "output_type": "execute_result"
    }
   ],
   "source": [
    "rfc_test = RandomForestClassifier(criterion = 'entropy', random_state = 0, n_estimators = blend_rf_dict[0][0])\n",
    "rfc_test.fit(x_train,y_train)"
   ]
  },
  {
   "cell_type": "code",
   "execution_count": 73,
   "metadata": {},
   "outputs": [],
   "source": [
    "holdout_pred_1=pd.DataFrame(model.predict(x_valid),columns = [\"Pre1\"])\n",
    "test_pred_1=pd.DataFrame(model.predict(x_test),columns = [\"Pre1\"])\n",
    "holdout_pred_2=pd.DataFrame(model.predict(x_valid),columns = [\"Pre2\"])\n",
    "test_pred_2=pd.DataFrame(model.predict(x_test),columns = [\"Pre2\"])\n",
    "x_valid=x_valid.reset_index(drop=True)\n",
    "x_test=x_test.reset_index(drop=True)\n",
    "y_valid=y_valid.reset_index(drop=True)\n",
    "y_test=y_test.reset_index(drop=True)"
   ]
  },
  {
   "cell_type": "code",
   "execution_count": 74,
   "metadata": {},
   "outputs": [],
   "source": [
    "df_val=pd.concat([x_valid, holdout_pred_1,holdout_pred_2],axis=1)\n",
    "df_test=pd.concat([x_test, test_pred_1,test_pred_2],axis=1)"
   ]
  },
  {
   "cell_type": "code",
   "execution_count": 75,
   "metadata": {},
   "outputs": [
    {
     "name": "stderr",
     "output_type": "stream",
     "text": [
      "d:\\python\\lib\\site-packages\\sklearn\\linear_model\\_logistic.py:764: ConvergenceWarning: lbfgs failed to converge (status=1):\n",
      "STOP: TOTAL NO. of ITERATIONS REACHED LIMIT.\n",
      "\n",
      "Increase the number of iterations (max_iter) or scale the data as shown in:\n",
      "    https://scikit-learn.org/stable/modules/preprocessing.html\n",
      "Please also refer to the documentation for alternative solver options:\n",
      "    https://scikit-learn.org/stable/modules/linear_model.html#logistic-regression\n",
      "  extra_warning_msg=_LOGISTIC_SOLVER_CONVERGENCE_MSG)\n",
      "d:\\python\\lib\\site-packages\\sklearn\\linear_model\\_logistic.py:764: ConvergenceWarning: lbfgs failed to converge (status=1):\n",
      "STOP: TOTAL NO. of ITERATIONS REACHED LIMIT.\n",
      "\n",
      "Increase the number of iterations (max_iter) or scale the data as shown in:\n",
      "    https://scikit-learn.org/stable/modules/preprocessing.html\n",
      "Please also refer to the documentation for alternative solver options:\n",
      "    https://scikit-learn.org/stable/modules/linear_model.html#logistic-regression\n",
      "  extra_warning_msg=_LOGISTIC_SOLVER_CONVERGENCE_MSG)\n",
      "d:\\python\\lib\\site-packages\\sklearn\\linear_model\\_logistic.py:764: ConvergenceWarning: lbfgs failed to converge (status=1):\n",
      "STOP: TOTAL NO. of ITERATIONS REACHED LIMIT.\n",
      "\n",
      "Increase the number of iterations (max_iter) or scale the data as shown in:\n",
      "    https://scikit-learn.org/stable/modules/preprocessing.html\n",
      "Please also refer to the documentation for alternative solver options:\n",
      "    https://scikit-learn.org/stable/modules/linear_model.html#logistic-regression\n",
      "  extra_warning_msg=_LOGISTIC_SOLVER_CONVERGENCE_MSG)\n",
      "d:\\python\\lib\\site-packages\\sklearn\\linear_model\\_logistic.py:764: ConvergenceWarning: lbfgs failed to converge (status=1):\n",
      "STOP: TOTAL NO. of ITERATIONS REACHED LIMIT.\n",
      "\n",
      "Increase the number of iterations (max_iter) or scale the data as shown in:\n",
      "    https://scikit-learn.org/stable/modules/preprocessing.html\n",
      "Please also refer to the documentation for alternative solver options:\n",
      "    https://scikit-learn.org/stable/modules/linear_model.html#logistic-regression\n",
      "  extra_warning_msg=_LOGISTIC_SOLVER_CONVERGENCE_MSG)\n",
      "d:\\python\\lib\\site-packages\\sklearn\\linear_model\\_logistic.py:764: ConvergenceWarning: lbfgs failed to converge (status=1):\n",
      "STOP: TOTAL NO. of ITERATIONS REACHED LIMIT.\n",
      "\n",
      "Increase the number of iterations (max_iter) or scale the data as shown in:\n",
      "    https://scikit-learn.org/stable/modules/preprocessing.html\n",
      "Please also refer to the documentation for alternative solver options:\n",
      "    https://scikit-learn.org/stable/modules/linear_model.html#logistic-regression\n",
      "  extra_warning_msg=_LOGISTIC_SOLVER_CONVERGENCE_MSG)\n",
      "d:\\python\\lib\\site-packages\\sklearn\\linear_model\\_logistic.py:764: ConvergenceWarning: lbfgs failed to converge (status=1):\n",
      "STOP: TOTAL NO. of ITERATIONS REACHED LIMIT.\n",
      "\n",
      "Increase the number of iterations (max_iter) or scale the data as shown in:\n",
      "    https://scikit-learn.org/stable/modules/preprocessing.html\n",
      "Please also refer to the documentation for alternative solver options:\n",
      "    https://scikit-learn.org/stable/modules/linear_model.html#logistic-regression\n",
      "  extra_warning_msg=_LOGISTIC_SOLVER_CONVERGENCE_MSG)\n",
      "d:\\python\\lib\\site-packages\\sklearn\\linear_model\\_logistic.py:764: ConvergenceWarning: lbfgs failed to converge (status=1):\n",
      "STOP: TOTAL NO. of ITERATIONS REACHED LIMIT.\n",
      "\n",
      "Increase the number of iterations (max_iter) or scale the data as shown in:\n",
      "    https://scikit-learn.org/stable/modules/preprocessing.html\n",
      "Please also refer to the documentation for alternative solver options:\n",
      "    https://scikit-learn.org/stable/modules/linear_model.html#logistic-regression\n",
      "  extra_warning_msg=_LOGISTIC_SOLVER_CONVERGENCE_MSG)\n"
     ]
    }
   ],
   "source": [
    "lr_dict = dict()\n",
    "for i in range(100,10000,100):\n",
    "    lr = LogisticRegression(max_iter = i)\n",
    "    lr.fit(df_val,y_valid)\n",
    "    y_pred = lr.predict(df_test)\n",
    "    lr_dict[i]=accuracy_score(y_test,y_pred)"
   ]
  },
  {
   "cell_type": "code",
   "execution_count": 76,
   "metadata": {},
   "outputs": [],
   "source": [
    "lr_dict_df = pd.DataFrame(list(lr_dict.items()),columns = ['max_iter', 'accuracy'])"
   ]
  },
  {
   "cell_type": "code",
   "execution_count": 77,
   "metadata": {},
   "outputs": [
    {
     "data": {
      "text/plain": [
       "[<matplotlib.lines.Line2D at 0x2497a3b9708>]"
      ]
     },
     "execution_count": 77,
     "metadata": {},
     "output_type": "execute_result"
    },
    {
     "data": {
      "image/png": "[encoded data removed]",
      "text/plain": [
       "<Figure size 432x288 with 1 Axes>"
      ]
     },
     "metadata": {
      "needs_background": "light"
     },
     "output_type": "display_data"
    }
   ],
   "source": [
    "plt.title(\"n_estimators Vs accuracy\")\n",
    "plt.plot(lr_dict_df.max_iter,lr_dict_df.accuracy,linestyle = '-',linewidth = 2, color = 'steelblue',marker = 'o',markersize = 6, markeredgecolor='black', markerfacecolor='brown')"
   ]
  },
  {
   "cell_type": "code",
   "execution_count": 78,
   "metadata": {},
   "outputs": [],
   "source": [
    "lr_dict_dict = sorted(lr_dict.items(), key=lambda x: x[1], reverse=True)"
   ]
  },
  {
   "cell_type": "code",
   "execution_count": 79,
   "metadata": {},
   "outputs": [
    {
     "name": "stderr",
     "output_type": "stream",
     "text": [
      "d:\\python\\lib\\site-packages\\sklearn\\linear_model\\_logistic.py:764: ConvergenceWarning: lbfgs failed to converge (status=1):\n",
      "STOP: TOTAL NO. of ITERATIONS REACHED LIMIT.\n",
      "\n",
      "Increase the number of iterations (max_iter) or scale the data as shown in:\n",
      "    https://scikit-learn.org/stable/modules/preprocessing.html\n",
      "Please also refer to the documentation for alternative solver options:\n",
      "    https://scikit-learn.org/stable/modules/linear_model.html#logistic-regression\n",
      "  extra_warning_msg=_LOGISTIC_SOLVER_CONVERGENCE_MSG)\n"
     ]
    },
    {
     "data": {
      "text/plain": [
       "LogisticRegression(max_iter=300)"
      ]
     },
     "execution_count": 79,
     "metadata": {},
     "output_type": "execute_result"
    }
   ],
   "source": [
    "lr = LogisticRegression(max_iter = lr_dict_dict [0][0])\n",
    "lr.fit(df_val,y_valid)"
   ]
  },
  {
   "cell_type": "code",
   "execution_count": 80,
   "metadata": {},
   "outputs": [],
   "source": [
    "t_pred = lr.predict(df_test)"
   ]
  },
  {
   "cell_type": "code",
   "execution_count": 81,
   "metadata": {},
   "outputs": [
    {
     "data": {
      "text/plain": [
       "0.717391304347826"
      ]
     },
     "execution_count": 81,
     "metadata": {},
     "output_type": "execute_result"
    }
   ],
   "source": [
    "accuracy_score(y_pred, y_test)"
   ]
  },
  {
   "cell_type": "code",
   "execution_count": 82,
   "metadata": {},
   "outputs": [
    {
     "name": "stdout",
     "output_type": "stream",
     "text": [
      "              precision    recall  f1-score   support\n",
      "\n",
      "           0       0.68      0.77      0.72        22\n",
      "           1       0.76      0.67      0.71        24\n",
      "\n",
      "    accuracy                           0.72        46\n",
      "   macro avg       0.72      0.72      0.72        46\n",
      "weighted avg       0.72      0.72      0.72        46\n",
      "\n"
     ]
    }
   ],
   "source": [
    "print(classification_report(y_pred, y_test))"
   ]
  },
  {
   "cell_type": "code",
   "execution_count": 83,
   "metadata": {},
   "outputs": [
    {
     "data": {
      "text/plain": [
       "Text(50.99999999999999, 0.5, 'Predicted')"
      ]
     },
     "execution_count": 83,
     "metadata": {},
     "output_type": "execute_result"
    },
    {
     "data": {
      "image/png": "[encoded data removed]",
      "text/plain": [
       "<Figure size 576x432 with 2 Axes>"
      ]
     },
     "metadata": {
      "needs_background": "light"
     },
     "output_type": "display_data"
    }
   ],
   "source": [
    "c_mat = confusion_matrix(y_pred, y_test)\n",
    "c_mat_df = pd.DataFrame(c_mat)\n",
    "c_mat_df.columns = [\"No Heart Disease\",\"Heart Disease\"]\n",
    "c_mat_df.index = [\"No Heart Disease\",\"Heart Disease\"]\n",
    "c_mat_df = c_mat_df.T\n",
    "plt.figure(figsize = (8,6))\n",
    "sns.heatmap(c_mat_df,annot = True,fmt = 'g')\n",
    "plt.xlabel(\"Actual\")\n",
    "plt.ylabel(\"Predicted\")"
   ]
  },
  {
   "cell_type": "code",
   "execution_count": 84,
   "metadata": {},
   "outputs": [
    {
     "data": {
      "image/png": "[encoded data removed]",
      "text/plain": [
       "<Figure size 432x288 with 1 Axes>"
      ]
     },
     "metadata": {
      "needs_background": "light"
     },
     "output_type": "display_data"
    }
   ],
   "source": [
    "'''Receiver Operator Curve (ROC) and Area under the curve (AUC)'''\n",
    "fpr, tpr, thresholds = roc_curve(y_pred, y_test)\n",
    "plt.plot([0,1],[0,1],'k--')\n",
    "plt.plot(fpr, tpr, label='Knn')\n",
    "plt.xlabel('FP')\n",
    "plt.ylabel('Sensitivity')\n",
    "title = \"Combine DNN and RF by Blending\"\n",
    "plt.title(title)\n",
    "plt.show()"
   ]
  },
  {
   "cell_type": "code",
   "execution_count": 85,
   "metadata": {},
   "outputs": [
    {
     "data": {
      "text/plain": [
       "0.7196969696969695"
      ]
     },
     "execution_count": 85,
     "metadata": {},
     "output_type": "execute_result"
    }
   ],
   "source": [
    "roc_auc_score(y_pred, y_test)"
   ]
  },
  {
   "cell_type": "code",
   "execution_count": 86,
   "metadata": {},
   "outputs": [],
   "source": [
    "conclusion[\"Blending Classifier DNN+RF\"]=accuracy_score(y_pred, y_test)"
   ]
  },
  {
   "cell_type": "markdown",
   "metadata": {},
   "source": [
    "### 3.Conclusion - Result Comparisons"
   ]
  },
  {
   "cell_type": "code",
   "execution_count": 102,
   "metadata": {},
   "outputs": [
    {
     "data": {
      "text/plain": [
       "{'RandomForestClassifier()': 0.8478260869565217,\n",
       " 'DNN - Sequential()': 0.695652186870575,\n",
       " 'StackingClassifier DNN+RF': 0.7391304347826086,\n",
       " 'VotingClassifier DNN+RF': 0.782608695652174,\n",
       " 'Blending Classifier DNN+RF': 0.717391304347826}"
      ]
     },
     "execution_count": 102,
     "metadata": {},
     "output_type": "execute_result"
    }
   ],
   "source": [
    "conclusion"
   ]
  },
  {
   "cell_type": "code",
   "execution_count": 103,
   "metadata": {},
   "outputs": [
    {
     "data": {
      "image/png": "[encoded data removed]",
      "text/plain": [
       "<Figure size 432x288 with 1 Axes>"
      ]
     },
     "metadata": {
      "needs_background": "light"
     },
     "output_type": "display_data"
    }
   ],
   "source": [
    "plt.bar(conclusion.keys(), conclusion.values(), align='center', alpha=0.5)\n",
    "plt.xticks(rotation=45)\n",
    "plt.title('Result Comparisons')\n",
    "\n",
    "plt.show()"
   ]
  },
  {
   "cell_type": "code",
   "execution_count": 89,
   "metadata": {},
   "outputs": [
    {
     "data": {
      "text/plain": [
       "'Tips: If the accurary looks unreasonable, please reload all the function for that model'"
      ]
     },
     "execution_count": 89,
     "metadata": {},
     "output_type": "execute_result"
    }
   ],
   "source": [
    "\"\"\"Tips: If the accurary looks unreasonable, please reload all the function for that model\"\"\""
   ]
  },
  {
   "cell_type": "code",
   "execution_count": null,
   "metadata": {},
   "outputs": [],
   "source": []
  }
 ],
 "metadata": {
  "kernelspec": {
   "display_name": "Python 3",
   "language": "python",
   "name": "python3"
  },
  "language_info": {
   "codemirror_mode": {
    "name": "ipython",
    "version": 3
   },
   "file_extension": ".py",
   "mimetype": "text/x-python",
   "name": "python",
   "nbconvert_exporter": "python",
   "pygments_lexer": "ipython3",
   "version": "3.7.7"
  }
 },
 "nbformat": 4,
 "nbformat_minor": 4
}
