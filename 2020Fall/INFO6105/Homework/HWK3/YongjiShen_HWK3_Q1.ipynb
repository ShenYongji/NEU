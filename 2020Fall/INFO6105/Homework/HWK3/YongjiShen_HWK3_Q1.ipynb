{
 "cells": [
  {
   "cell_type": "markdown",
   "metadata": {},
   "source": [
    "### Question 1:\n",
    "Expand the basic code for building a DNN on the Pima Indian Diabetic Dataset to include:\n",
    "\n",
    "(a) pre-process the data by scaling/standardizing the 8 columns\n",
    "\n",
    "(b) Split the entire dataset into three parts instead of two as we currently do. One is train, two is validation, and then a test set. Build DNN model with train data, tune hyper-parameters with validation data, and finally evaluate performance on the test data.\n",
    "\n",
    "(c) Make Epoch versus train set accuracy, and validation set accuracy\n",
    "\n",
    "(d) Report results using nice ROC curves, report AUC values. Feel free to use code form our course, or from elsewhere\n",
    "\n",
    "(e) How would you increase dataset size? Try out at least two approaches and re-evaluate the model performance on this new and augmented dataset.\n",
    "\n"
   ]
  },
  {
   "cell_type": "code",
   "execution_count": 1,
   "metadata": {},
   "outputs": [],
   "source": [
    "from keras.models import Sequential\n",
    "from keras.layers import Dense\n",
    "from sklearn.model_selection import train_test_split\n",
    "from matplotlib import pyplot as plt\n",
    "from sklearn.metrics import accuracy_score,matthews_corrcoef,f1_score,classification_report,roc_curve,roc_auc_score,confusion_matrix\n",
    "import seaborn as sns\n",
    "import numpy as np\n",
    "from collections import Counter\n",
    "import pandas as pd\n",
    "\n",
    "%matplotlib inline"
   ]
  },
  {
   "cell_type": "code",
   "execution_count": 2,
   "metadata": {},
   "outputs": [
    {
     "name": "stdout",
     "output_type": "stream",
     "text": [
      "(768, 9)\n"
     ]
    },
    {
     "data": {
      "text/html": [
       "<div>\n",
       "<style scoped>\n",
       "    .dataframe tbody tr th:only-of-type {\n",
       "        vertical-align: middle;\n",
       "    }\n",
       "\n",
       "    .dataframe tbody tr th {\n",
       "        vertical-align: top;\n",
       "    }\n",
       "\n",
       "    .dataframe thead th {\n",
       "        text-align: right;\n",
       "    }\n",
       "</style>\n",
       "<table border=\"1\" class=\"dataframe\">\n",
       "  <thead>\n",
       "    <tr style=\"text-align: right;\">\n",
       "      <th></th>\n",
       "      <th>Pregnancies</th>\n",
       "      <th>Glucose</th>\n",
       "      <th>BloodPressure</th>\n",
       "      <th>SkinThickness</th>\n",
       "      <th>Insulin</th>\n",
       "      <th>BMI</th>\n",
       "      <th>DiabetesPedigreeFunction</th>\n",
       "      <th>Age</th>\n",
       "      <th>Outcome</th>\n",
       "    </tr>\n",
       "  </thead>\n",
       "  <tbody>\n",
       "    <tr>\n",
       "      <th>0</th>\n",
       "      <td>6</td>\n",
       "      <td>148</td>\n",
       "      <td>72</td>\n",
       "      <td>35</td>\n",
       "      <td>0</td>\n",
       "      <td>33.6</td>\n",
       "      <td>0.627</td>\n",
       "      <td>50</td>\n",
       "      <td>1</td>\n",
       "    </tr>\n",
       "    <tr>\n",
       "      <th>1</th>\n",
       "      <td>1</td>\n",
       "      <td>85</td>\n",
       "      <td>66</td>\n",
       "      <td>29</td>\n",
       "      <td>0</td>\n",
       "      <td>26.6</td>\n",
       "      <td>0.351</td>\n",
       "      <td>31</td>\n",
       "      <td>0</td>\n",
       "    </tr>\n",
       "    <tr>\n",
       "      <th>2</th>\n",
       "      <td>8</td>\n",
       "      <td>183</td>\n",
       "      <td>64</td>\n",
       "      <td>0</td>\n",
       "      <td>0</td>\n",
       "      <td>23.3</td>\n",
       "      <td>0.672</td>\n",
       "      <td>32</td>\n",
       "      <td>1</td>\n",
       "    </tr>\n",
       "    <tr>\n",
       "      <th>3</th>\n",
       "      <td>1</td>\n",
       "      <td>89</td>\n",
       "      <td>66</td>\n",
       "      <td>23</td>\n",
       "      <td>94</td>\n",
       "      <td>28.1</td>\n",
       "      <td>0.167</td>\n",
       "      <td>21</td>\n",
       "      <td>0</td>\n",
       "    </tr>\n",
       "    <tr>\n",
       "      <th>4</th>\n",
       "      <td>0</td>\n",
       "      <td>137</td>\n",
       "      <td>40</td>\n",
       "      <td>35</td>\n",
       "      <td>168</td>\n",
       "      <td>43.1</td>\n",
       "      <td>2.288</td>\n",
       "      <td>33</td>\n",
       "      <td>1</td>\n",
       "    </tr>\n",
       "  </tbody>\n",
       "</table>\n",
       "</div>"
      ],
      "text/plain": [
       "   Pregnancies  Glucose  BloodPressure  SkinThickness  Insulin   BMI  \\\n",
       "0            6      148             72             35        0  33.6   \n",
       "1            1       85             66             29        0  26.6   \n",
       "2            8      183             64              0        0  23.3   \n",
       "3            1       89             66             23       94  28.1   \n",
       "4            0      137             40             35      168  43.1   \n",
       "\n",
       "   DiabetesPedigreeFunction  Age  Outcome  \n",
       "0                     0.627   50        1  \n",
       "1                     0.351   31        0  \n",
       "2                     0.672   32        1  \n",
       "3                     0.167   21        0  \n",
       "4                     2.288   33        1  "
      ]
     },
     "execution_count": 2,
     "metadata": {},
     "output_type": "execute_result"
    }
   ],
   "source": [
    "df = pd.read_csv('./YongjiShen_pima-indians-diabetes.data',header = None,names = [\"Pregnancies\",\"Glucose\",\"BloodPressure\",\"SkinThickness\",\"Insulin\",\"BMI\",\"DiabetesPedigreeFunction\",\"Age\",\"Outcome\"])\n",
    "print(df.shape)\n",
    "df.head()"
   ]
  },
  {
   "cell_type": "code",
   "execution_count": 3,
   "metadata": {},
   "outputs": [
    {
     "data": {
      "text/plain": [
       "Index(['Pregnancies', 'Glucose', 'BloodPressure', 'SkinThickness', 'Insulin',\n",
       "       'BMI', 'DiabetesPedigreeFunction', 'Age', 'Outcome'],\n",
       "      dtype='object')"
      ]
     },
     "execution_count": 3,
     "metadata": {},
     "output_type": "execute_result"
    }
   ],
   "source": [
    "df.columns"
   ]
  },
  {
   "cell_type": "code",
   "execution_count": 4,
   "metadata": {},
   "outputs": [
    {
     "data": {
      "text/plain": [
       "Pregnancies                 0\n",
       "Glucose                     0\n",
       "BloodPressure               0\n",
       "SkinThickness               0\n",
       "Insulin                     0\n",
       "BMI                         0\n",
       "DiabetesPedigreeFunction    0\n",
       "Age                         0\n",
       "Outcome                     0\n",
       "dtype: int64"
      ]
     },
     "execution_count": 4,
     "metadata": {},
     "output_type": "execute_result"
    }
   ],
   "source": [
    "df.isnull().sum()"
   ]
  },
  {
   "cell_type": "code",
   "execution_count": 5,
   "metadata": {},
   "outputs": [
    {
     "name": "stdout",
     "output_type": "stream",
     "text": [
      "<class 'pandas.core.frame.DataFrame'>\n",
      "RangeIndex: 768 entries, 0 to 767\n",
      "Data columns (total 9 columns):\n",
      " #   Column                    Non-Null Count  Dtype  \n",
      "---  ------                    --------------  -----  \n",
      " 0   Pregnancies               768 non-null    int64  \n",
      " 1   Glucose                   768 non-null    int64  \n",
      " 2   BloodPressure             768 non-null    int64  \n",
      " 3   SkinThickness             768 non-null    int64  \n",
      " 4   Insulin                   768 non-null    int64  \n",
      " 5   BMI                       768 non-null    float64\n",
      " 6   DiabetesPedigreeFunction  768 non-null    float64\n",
      " 7   Age                       768 non-null    int64  \n",
      " 8   Outcome                   768 non-null    int64  \n",
      "dtypes: float64(2), int64(7)\n",
      "memory usage: 54.1 KB\n"
     ]
    }
   ],
   "source": [
    "df.info()"
   ]
  },
  {
   "cell_type": "code",
   "execution_count": 6,
   "metadata": {},
   "outputs": [],
   "source": [
    "Y = df[\"Outcome\"]\n",
    "x = df.drop(\"Outcome\", axis=1)"
   ]
  },
  {
   "cell_type": "code",
   "execution_count": 7,
   "metadata": {},
   "outputs": [
    {
     "name": "stdout",
     "output_type": "stream",
     "text": [
      "(768, 8) (768,)\n"
     ]
    }
   ],
   "source": [
    "print(x.shape,Y.shape)"
   ]
  },
  {
   "cell_type": "code",
   "execution_count": 8,
   "metadata": {},
   "outputs": [
    {
     "data": {
      "text/html": [
       "<div>\n",
       "<style scoped>\n",
       "    .dataframe tbody tr th:only-of-type {\n",
       "        vertical-align: middle;\n",
       "    }\n",
       "\n",
       "    .dataframe tbody tr th {\n",
       "        vertical-align: top;\n",
       "    }\n",
       "\n",
       "    .dataframe thead th {\n",
       "        text-align: right;\n",
       "    }\n",
       "</style>\n",
       "<table border=\"1\" class=\"dataframe\">\n",
       "  <thead>\n",
       "    <tr style=\"text-align: right;\">\n",
       "      <th></th>\n",
       "      <th>Pregnancies</th>\n",
       "      <th>Glucose</th>\n",
       "      <th>BloodPressure</th>\n",
       "      <th>SkinThickness</th>\n",
       "      <th>Insulin</th>\n",
       "      <th>BMI</th>\n",
       "      <th>DiabetesPedigreeFunction</th>\n",
       "      <th>Age</th>\n",
       "    </tr>\n",
       "  </thead>\n",
       "  <tbody>\n",
       "    <tr>\n",
       "      <th>count</th>\n",
       "      <td>768.000000</td>\n",
       "      <td>768.000000</td>\n",
       "      <td>768.000000</td>\n",
       "      <td>768.000000</td>\n",
       "      <td>768.000000</td>\n",
       "      <td>768.000000</td>\n",
       "      <td>768.000000</td>\n",
       "      <td>768.000000</td>\n",
       "    </tr>\n",
       "    <tr>\n",
       "      <th>mean</th>\n",
       "      <td>3.845052</td>\n",
       "      <td>120.894531</td>\n",
       "      <td>69.105469</td>\n",
       "      <td>20.536458</td>\n",
       "      <td>79.799479</td>\n",
       "      <td>31.992578</td>\n",
       "      <td>0.471876</td>\n",
       "      <td>33.240885</td>\n",
       "    </tr>\n",
       "    <tr>\n",
       "      <th>std</th>\n",
       "      <td>3.369578</td>\n",
       "      <td>31.972618</td>\n",
       "      <td>19.355807</td>\n",
       "      <td>15.952218</td>\n",
       "      <td>115.244002</td>\n",
       "      <td>7.884160</td>\n",
       "      <td>0.331329</td>\n",
       "      <td>11.760232</td>\n",
       "    </tr>\n",
       "    <tr>\n",
       "      <th>min</th>\n",
       "      <td>0.000000</td>\n",
       "      <td>0.000000</td>\n",
       "      <td>0.000000</td>\n",
       "      <td>0.000000</td>\n",
       "      <td>0.000000</td>\n",
       "      <td>0.000000</td>\n",
       "      <td>0.078000</td>\n",
       "      <td>21.000000</td>\n",
       "    </tr>\n",
       "    <tr>\n",
       "      <th>25%</th>\n",
       "      <td>1.000000</td>\n",
       "      <td>99.000000</td>\n",
       "      <td>62.000000</td>\n",
       "      <td>0.000000</td>\n",
       "      <td>0.000000</td>\n",
       "      <td>27.300000</td>\n",
       "      <td>0.243750</td>\n",
       "      <td>24.000000</td>\n",
       "    </tr>\n",
       "    <tr>\n",
       "      <th>50%</th>\n",
       "      <td>3.000000</td>\n",
       "      <td>117.000000</td>\n",
       "      <td>72.000000</td>\n",
       "      <td>23.000000</td>\n",
       "      <td>30.500000</td>\n",
       "      <td>32.000000</td>\n",
       "      <td>0.372500</td>\n",
       "      <td>29.000000</td>\n",
       "    </tr>\n",
       "    <tr>\n",
       "      <th>75%</th>\n",
       "      <td>6.000000</td>\n",
       "      <td>140.250000</td>\n",
       "      <td>80.000000</td>\n",
       "      <td>32.000000</td>\n",
       "      <td>127.250000</td>\n",
       "      <td>36.600000</td>\n",
       "      <td>0.626250</td>\n",
       "      <td>41.000000</td>\n",
       "    </tr>\n",
       "    <tr>\n",
       "      <th>max</th>\n",
       "      <td>17.000000</td>\n",
       "      <td>199.000000</td>\n",
       "      <td>122.000000</td>\n",
       "      <td>99.000000</td>\n",
       "      <td>846.000000</td>\n",
       "      <td>67.100000</td>\n",
       "      <td>2.420000</td>\n",
       "      <td>81.000000</td>\n",
       "    </tr>\n",
       "  </tbody>\n",
       "</table>\n",
       "</div>"
      ],
      "text/plain": [
       "       Pregnancies     Glucose  BloodPressure  SkinThickness     Insulin  \\\n",
       "count   768.000000  768.000000     768.000000     768.000000  768.000000   \n",
       "mean      3.845052  120.894531      69.105469      20.536458   79.799479   \n",
       "std       3.369578   31.972618      19.355807      15.952218  115.244002   \n",
       "min       0.000000    0.000000       0.000000       0.000000    0.000000   \n",
       "25%       1.000000   99.000000      62.000000       0.000000    0.000000   \n",
       "50%       3.000000  117.000000      72.000000      23.000000   30.500000   \n",
       "75%       6.000000  140.250000      80.000000      32.000000  127.250000   \n",
       "max      17.000000  199.000000     122.000000      99.000000  846.000000   \n",
       "\n",
       "              BMI  DiabetesPedigreeFunction         Age  \n",
       "count  768.000000                768.000000  768.000000  \n",
       "mean    31.992578                  0.471876   33.240885  \n",
       "std      7.884160                  0.331329   11.760232  \n",
       "min      0.000000                  0.078000   21.000000  \n",
       "25%     27.300000                  0.243750   24.000000  \n",
       "50%     32.000000                  0.372500   29.000000  \n",
       "75%     36.600000                  0.626250   41.000000  \n",
       "max     67.100000                  2.420000   81.000000  "
      ]
     },
     "execution_count": 8,
     "metadata": {},
     "output_type": "execute_result"
    }
   ],
   "source": [
    "x.describe()"
   ]
  },
  {
   "cell_type": "markdown",
   "metadata": {},
   "source": [
    "### pre-process the data by scaling/standardizing the 8 columns"
   ]
  },
  {
   "cell_type": "code",
   "execution_count": 9,
   "metadata": {},
   "outputs": [],
   "source": [
    "from sklearn import preprocessing\n",
    "scaler = preprocessing.StandardScaler()\n",
    "x =scaler.fit_transform(x)"
   ]
  },
  {
   "cell_type": "code",
   "execution_count": 10,
   "metadata": {},
   "outputs": [],
   "source": [
    "x = pd.DataFrame(x)\n",
    "x.columns = [\"Pregnancies\",\"Glucose\",\"BloodPressure\",\"SkinThickness\",\"Insulin\",\"BMI\",\"DiabetesPedigreeFunction\",\"Age\"]"
   ]
  },
  {
   "cell_type": "code",
   "execution_count": 11,
   "metadata": {},
   "outputs": [
    {
     "data": {
      "text/html": [
       "<div>\n",
       "<style scoped>\n",
       "    .dataframe tbody tr th:only-of-type {\n",
       "        vertical-align: middle;\n",
       "    }\n",
       "\n",
       "    .dataframe tbody tr th {\n",
       "        vertical-align: top;\n",
       "    }\n",
       "\n",
       "    .dataframe thead th {\n",
       "        text-align: right;\n",
       "    }\n",
       "</style>\n",
       "<table border=\"1\" class=\"dataframe\">\n",
       "  <thead>\n",
       "    <tr style=\"text-align: right;\">\n",
       "      <th></th>\n",
       "      <th>Pregnancies</th>\n",
       "      <th>Glucose</th>\n",
       "      <th>BloodPressure</th>\n",
       "      <th>SkinThickness</th>\n",
       "      <th>Insulin</th>\n",
       "      <th>BMI</th>\n",
       "      <th>DiabetesPedigreeFunction</th>\n",
       "      <th>Age</th>\n",
       "    </tr>\n",
       "  </thead>\n",
       "  <tbody>\n",
       "    <tr>\n",
       "      <th>0</th>\n",
       "      <td>0.639947</td>\n",
       "      <td>0.848324</td>\n",
       "      <td>0.149641</td>\n",
       "      <td>0.907270</td>\n",
       "      <td>-0.692891</td>\n",
       "      <td>0.204013</td>\n",
       "      <td>0.468492</td>\n",
       "      <td>1.425995</td>\n",
       "    </tr>\n",
       "    <tr>\n",
       "      <th>1</th>\n",
       "      <td>-0.844885</td>\n",
       "      <td>-1.123396</td>\n",
       "      <td>-0.160546</td>\n",
       "      <td>0.530902</td>\n",
       "      <td>-0.692891</td>\n",
       "      <td>-0.684422</td>\n",
       "      <td>-0.365061</td>\n",
       "      <td>-0.190672</td>\n",
       "    </tr>\n",
       "    <tr>\n",
       "      <th>2</th>\n",
       "      <td>1.233880</td>\n",
       "      <td>1.943724</td>\n",
       "      <td>-0.263941</td>\n",
       "      <td>-1.288212</td>\n",
       "      <td>-0.692891</td>\n",
       "      <td>-1.103255</td>\n",
       "      <td>0.604397</td>\n",
       "      <td>-0.105584</td>\n",
       "    </tr>\n",
       "    <tr>\n",
       "      <th>3</th>\n",
       "      <td>-0.844885</td>\n",
       "      <td>-0.998208</td>\n",
       "      <td>-0.160546</td>\n",
       "      <td>0.154533</td>\n",
       "      <td>0.123302</td>\n",
       "      <td>-0.494043</td>\n",
       "      <td>-0.920763</td>\n",
       "      <td>-1.041549</td>\n",
       "    </tr>\n",
       "    <tr>\n",
       "      <th>4</th>\n",
       "      <td>-1.141852</td>\n",
       "      <td>0.504055</td>\n",
       "      <td>-1.504687</td>\n",
       "      <td>0.907270</td>\n",
       "      <td>0.765836</td>\n",
       "      <td>1.409746</td>\n",
       "      <td>5.484909</td>\n",
       "      <td>-0.020496</td>\n",
       "    </tr>\n",
       "  </tbody>\n",
       "</table>\n",
       "</div>"
      ],
      "text/plain": [
       "   Pregnancies   Glucose  BloodPressure  SkinThickness   Insulin       BMI  \\\n",
       "0     0.639947  0.848324       0.149641       0.907270 -0.692891  0.204013   \n",
       "1    -0.844885 -1.123396      -0.160546       0.530902 -0.692891 -0.684422   \n",
       "2     1.233880  1.943724      -0.263941      -1.288212 -0.692891 -1.103255   \n",
       "3    -0.844885 -0.998208      -0.160546       0.154533  0.123302 -0.494043   \n",
       "4    -1.141852  0.504055      -1.504687       0.907270  0.765836  1.409746   \n",
       "\n",
       "   DiabetesPedigreeFunction       Age  \n",
       "0                  0.468492  1.425995  \n",
       "1                 -0.365061 -0.190672  \n",
       "2                  0.604397 -0.105584  \n",
       "3                 -0.920763 -1.041549  \n",
       "4                  5.484909 -0.020496  "
      ]
     },
     "execution_count": 11,
     "metadata": {},
     "output_type": "execute_result"
    }
   ],
   "source": [
    "x.head()"
   ]
  },
  {
   "cell_type": "markdown",
   "metadata": {},
   "source": [
    "### Split the entire dataset into three parts instead of two as we currently do. One is train, two is validation, and then a test set. Build DNN model with train data, tune hyper-parameters with validation data, and finally evaluate performance on the test data."
   ]
  },
  {
   "cell_type": "code",
   "execution_count": 12,
   "metadata": {},
   "outputs": [],
   "source": [
    "#select 70% as train, 15% as validation, 15% as test\n",
    "(X_train_valid, X_test, Y_train_valid, Y_test) = train_test_split(x, Y, test_size=0.15, random_state=1)"
   ]
  },
  {
   "cell_type": "code",
   "execution_count": 13,
   "metadata": {},
   "outputs": [],
   "source": [
    "#select train and validation set\n",
    "(X_train, X_valid, Y_train, Y_valid) = train_test_split(X_train_valid,Y_train_valid, test_size=(X_test.shape[0]/X_train_valid.shape[0]), random_state=1)"
   ]
  },
  {
   "cell_type": "code",
   "execution_count": 14,
   "metadata": {},
   "outputs": [
    {
     "name": "stdout",
     "output_type": "stream",
     "text": [
      "(536, 8) (536,)\n",
      "(116, 8) (116,)\n",
      "(116, 8) (116,)\n"
     ]
    }
   ],
   "source": [
    "print(X_train.shape,Y_train.shape)\n",
    "print(X_valid.shape,Y_valid.shape)\n",
    "print(X_test.shape,Y_test.shape)"
   ]
  },
  {
   "cell_type": "code",
   "execution_count": 15,
   "metadata": {},
   "outputs": [],
   "source": [
    "conclusion = dict()"
   ]
  },
  {
   "cell_type": "markdown",
   "metadata": {},
   "source": [
    "### Make Epoch versus train set accuracy, and validation set accuracy"
   ]
  },
  {
   "cell_type": "code",
   "execution_count": 16,
   "metadata": {},
   "outputs": [],
   "source": [
    "model = Sequential()"
   ]
  },
  {
   "cell_type": "code",
   "execution_count": 17,
   "metadata": {},
   "outputs": [],
   "source": [
    "model.add(Dense(10, input_dim=8, activation='relu'))\n",
    "model.add(Dense(6, activation='relu'))\n",
    "model.add(Dense(1, activation='sigmoid'))"
   ]
  },
  {
   "cell_type": "code",
   "execution_count": 18,
   "metadata": {},
   "outputs": [],
   "source": [
    "model.compile(loss='binary_crossentropy', optimizer='adam', metrics=['accuracy'])"
   ]
  },
  {
   "cell_type": "code",
   "execution_count": 19,
   "metadata": {},
   "outputs": [
    {
     "name": "stdout",
     "output_type": "stream",
     "text": [
      "Epoch 1/50\n",
      "108/108 [==============================] - 0s 1ms/step - loss: 0.7185 - accuracy: 0.4869 - val_loss: 0.6945 - val_accuracy: 0.5172\n",
      "Epoch 2/50\n",
      "108/108 [==============================] - 0s 591us/step - loss: 0.6786 - accuracy: 0.6567 - val_loss: 0.6694 - val_accuracy: 0.6293\n",
      "Epoch 3/50\n",
      "108/108 [==============================] - 0s 591us/step - loss: 0.6539 - accuracy: 0.7090 - val_loss: 0.6516 - val_accuracy: 0.6466\n",
      "Epoch 4/50\n",
      "108/108 [==============================] - 0s 573us/step - loss: 0.6322 - accuracy: 0.7388 - val_loss: 0.6337 - val_accuracy: 0.6810\n",
      "Epoch 5/50\n",
      "108/108 [==============================] - 0s 591us/step - loss: 0.6119 - accuracy: 0.7425 - val_loss: 0.6182 - val_accuracy: 0.7069\n",
      "Epoch 6/50\n",
      "108/108 [==============================] - 0s 573us/step - loss: 0.5925 - accuracy: 0.7407 - val_loss: 0.6003 - val_accuracy: 0.7241\n",
      "Epoch 7/50\n",
      "108/108 [==============================] - 0s 582us/step - loss: 0.5734 - accuracy: 0.7500 - val_loss: 0.5837 - val_accuracy: 0.7328\n",
      "Epoch 8/50\n",
      "108/108 [==============================] - 0s 582us/step - loss: 0.5525 - accuracy: 0.7444 - val_loss: 0.5703 - val_accuracy: 0.7328\n",
      "Epoch 9/50\n",
      "108/108 [==============================] - 0s 582us/step - loss: 0.5319 - accuracy: 0.7444 - val_loss: 0.5542 - val_accuracy: 0.7328\n",
      "Epoch 10/50\n",
      "108/108 [==============================] - 0s 587us/step - loss: 0.5145 - accuracy: 0.7500 - val_loss: 0.5397 - val_accuracy: 0.7500\n",
      "Epoch 11/50\n",
      "108/108 [==============================] - 0s 573us/step - loss: 0.5021 - accuracy: 0.7519 - val_loss: 0.5291 - val_accuracy: 0.7500\n",
      "Epoch 12/50\n",
      "108/108 [==============================] - 0s 579us/step - loss: 0.4912 - accuracy: 0.7631 - val_loss: 0.5203 - val_accuracy: 0.7414\n",
      "Epoch 13/50\n",
      "108/108 [==============================] - 0s 591us/step - loss: 0.4830 - accuracy: 0.7705 - val_loss: 0.5156 - val_accuracy: 0.7500\n",
      "Epoch 14/50\n",
      "108/108 [==============================] - 0s 582us/step - loss: 0.4763 - accuracy: 0.7724 - val_loss: 0.5117 - val_accuracy: 0.7500\n",
      "Epoch 15/50\n",
      "108/108 [==============================] - 0s 588us/step - loss: 0.4699 - accuracy: 0.7649 - val_loss: 0.5120 - val_accuracy: 0.7328\n",
      "Epoch 16/50\n",
      "108/108 [==============================] - 0s 586us/step - loss: 0.4662 - accuracy: 0.7743 - val_loss: 0.5113 - val_accuracy: 0.7414\n",
      "Epoch 17/50\n",
      "108/108 [==============================] - 0s 601us/step - loss: 0.4623 - accuracy: 0.7593 - val_loss: 0.5080 - val_accuracy: 0.7500\n",
      "Epoch 18/50\n",
      "108/108 [==============================] - 0s 609us/step - loss: 0.4585 - accuracy: 0.7668 - val_loss: 0.5109 - val_accuracy: 0.7328\n",
      "Epoch 19/50\n",
      "108/108 [==============================] - 0s 596us/step - loss: 0.4564 - accuracy: 0.7612 - val_loss: 0.5117 - val_accuracy: 0.7500\n",
      "Epoch 20/50\n",
      "108/108 [==============================] - 0s 600us/step - loss: 0.4537 - accuracy: 0.7649 - val_loss: 0.5131 - val_accuracy: 0.7500\n",
      "Epoch 21/50\n",
      "108/108 [==============================] - 0s 689us/step - loss: 0.4509 - accuracy: 0.7668 - val_loss: 0.5127 - val_accuracy: 0.7672\n",
      "Epoch 22/50\n",
      "108/108 [==============================] - 0s 619us/step - loss: 0.4488 - accuracy: 0.7687 - val_loss: 0.5125 - val_accuracy: 0.7672\n",
      "Epoch 23/50\n",
      "108/108 [==============================] - 0s 573us/step - loss: 0.4477 - accuracy: 0.7724 - val_loss: 0.5158 - val_accuracy: 0.7672\n",
      "Epoch 24/50\n",
      "108/108 [==============================] - 0s 582us/step - loss: 0.4454 - accuracy: 0.7668 - val_loss: 0.5160 - val_accuracy: 0.7672\n",
      "Epoch 25/50\n",
      "108/108 [==============================] - 0s 573us/step - loss: 0.4433 - accuracy: 0.7743 - val_loss: 0.5177 - val_accuracy: 0.7586\n",
      "Epoch 26/50\n",
      "108/108 [==============================] - 0s 582us/step - loss: 0.4428 - accuracy: 0.7668 - val_loss: 0.5172 - val_accuracy: 0.7500\n",
      "Epoch 27/50\n",
      "108/108 [==============================] - 0s 600us/step - loss: 0.4406 - accuracy: 0.7649 - val_loss: 0.5196 - val_accuracy: 0.7672\n",
      "Epoch 28/50\n",
      "108/108 [==============================] - 0s 582us/step - loss: 0.4414 - accuracy: 0.7780 - val_loss: 0.5209 - val_accuracy: 0.7586\n",
      "Epoch 29/50\n",
      "108/108 [==============================] - 0s 582us/step - loss: 0.4403 - accuracy: 0.7780 - val_loss: 0.5196 - val_accuracy: 0.7672\n",
      "Epoch 30/50\n",
      "108/108 [==============================] - 0s 582us/step - loss: 0.4392 - accuracy: 0.7743 - val_loss: 0.5196 - val_accuracy: 0.7586\n",
      "Epoch 31/50\n",
      "108/108 [==============================] - 0s 591us/step - loss: 0.4387 - accuracy: 0.7743 - val_loss: 0.5210 - val_accuracy: 0.7586\n",
      "Epoch 32/50\n",
      "108/108 [==============================] - 0s 582us/step - loss: 0.4391 - accuracy: 0.7761 - val_loss: 0.5200 - val_accuracy: 0.7586\n",
      "Epoch 33/50\n",
      "108/108 [==============================] - 0s 591us/step - loss: 0.4366 - accuracy: 0.7873 - val_loss: 0.5213 - val_accuracy: 0.7672\n",
      "Epoch 34/50\n",
      "108/108 [==============================] - 0s 591us/step - loss: 0.4360 - accuracy: 0.7780 - val_loss: 0.5227 - val_accuracy: 0.7586\n",
      "Epoch 35/50\n",
      "108/108 [==============================] - 0s 591us/step - loss: 0.4350 - accuracy: 0.7817 - val_loss: 0.5241 - val_accuracy: 0.7586\n",
      "Epoch 36/50\n",
      "108/108 [==============================] - 0s 619us/step - loss: 0.4339 - accuracy: 0.7836 - val_loss: 0.5232 - val_accuracy: 0.7672\n",
      "Epoch 37/50\n",
      "108/108 [==============================] - 0s 596us/step - loss: 0.4338 - accuracy: 0.7780 - val_loss: 0.5258 - val_accuracy: 0.7586\n",
      "Epoch 38/50\n",
      "108/108 [==============================] - 0s 591us/step - loss: 0.4343 - accuracy: 0.7836 - val_loss: 0.5232 - val_accuracy: 0.7586\n",
      "Epoch 39/50\n",
      "108/108 [==============================] - 0s 588us/step - loss: 0.4329 - accuracy: 0.7799 - val_loss: 0.5230 - val_accuracy: 0.7672\n",
      "Epoch 40/50\n",
      "108/108 [==============================] - 0s 600us/step - loss: 0.4318 - accuracy: 0.7854 - val_loss: 0.5254 - val_accuracy: 0.7672\n",
      "Epoch 41/50\n",
      "108/108 [==============================] - 0s 591us/step - loss: 0.4313 - accuracy: 0.7873 - val_loss: 0.5256 - val_accuracy: 0.7759\n",
      "Epoch 42/50\n",
      "108/108 [==============================] - 0s 609us/step - loss: 0.4321 - accuracy: 0.7817 - val_loss: 0.5266 - val_accuracy: 0.7672\n",
      "Epoch 43/50\n",
      "108/108 [==============================] - 0s 609us/step - loss: 0.4303 - accuracy: 0.7817 - val_loss: 0.5287 - val_accuracy: 0.7672\n",
      "Epoch 44/50\n",
      "108/108 [==============================] - 0s 592us/step - loss: 0.4296 - accuracy: 0.7892 - val_loss: 0.5284 - val_accuracy: 0.7672\n",
      "Epoch 45/50\n",
      "108/108 [==============================] - 0s 591us/step - loss: 0.4284 - accuracy: 0.7873 - val_loss: 0.5277 - val_accuracy: 0.7672\n",
      "Epoch 46/50\n",
      "108/108 [==============================] - 0s 600us/step - loss: 0.4303 - accuracy: 0.7854 - val_loss: 0.5310 - val_accuracy: 0.7672\n",
      "Epoch 47/50\n",
      "108/108 [==============================] - 0s 591us/step - loss: 0.4273 - accuracy: 0.7854 - val_loss: 0.5342 - val_accuracy: 0.7672\n",
      "Epoch 48/50\n",
      "108/108 [==============================] - 0s 600us/step - loss: 0.4277 - accuracy: 0.7873 - val_loss: 0.5349 - val_accuracy: 0.7672\n",
      "Epoch 49/50\n",
      "108/108 [==============================] - 0s 674us/step - loss: 0.4266 - accuracy: 0.7929 - val_loss: 0.5375 - val_accuracy: 0.7672\n",
      "Epoch 50/50\n",
      "108/108 [==============================] - 0s 702us/step - loss: 0.4273 - accuracy: 0.7836 - val_loss: 0.5395 - val_accuracy: 0.7672\n"
     ]
    }
   ],
   "source": [
    "model_history = model.fit(X_train, Y_train, validation_data=(X_valid, Y_valid),epochs=50, batch_size=5)"
   ]
  },
  {
   "cell_type": "code",
   "execution_count": 20,
   "metadata": {},
   "outputs": [],
   "source": [
    "his_df = pd.DataFrame (model_history.history)\n",
    "his_df.reset_index(inplace=True)"
   ]
  },
  {
   "cell_type": "code",
   "execution_count": 21,
   "metadata": {},
   "outputs": [
    {
     "data": {
      "text/html": [
       "<div>\n",
       "<style scoped>\n",
       "    .dataframe tbody tr th:only-of-type {\n",
       "        vertical-align: middle;\n",
       "    }\n",
       "\n",
       "    .dataframe tbody tr th {\n",
       "        vertical-align: top;\n",
       "    }\n",
       "\n",
       "    .dataframe thead th {\n",
       "        text-align: right;\n",
       "    }\n",
       "</style>\n",
       "<table border=\"1\" class=\"dataframe\">\n",
       "  <thead>\n",
       "    <tr style=\"text-align: right;\">\n",
       "      <th></th>\n",
       "      <th>index</th>\n",
       "      <th>loss</th>\n",
       "      <th>accuracy</th>\n",
       "      <th>val_loss</th>\n",
       "      <th>val_accuracy</th>\n",
       "    </tr>\n",
       "  </thead>\n",
       "  <tbody>\n",
       "    <tr>\n",
       "      <th>0</th>\n",
       "      <td>0</td>\n",
       "      <td>0.718518</td>\n",
       "      <td>0.486940</td>\n",
       "      <td>0.694512</td>\n",
       "      <td>0.517241</td>\n",
       "    </tr>\n",
       "    <tr>\n",
       "      <th>1</th>\n",
       "      <td>1</td>\n",
       "      <td>0.678583</td>\n",
       "      <td>0.656716</td>\n",
       "      <td>0.669378</td>\n",
       "      <td>0.629310</td>\n",
       "    </tr>\n",
       "    <tr>\n",
       "      <th>2</th>\n",
       "      <td>2</td>\n",
       "      <td>0.653868</td>\n",
       "      <td>0.708955</td>\n",
       "      <td>0.651572</td>\n",
       "      <td>0.646552</td>\n",
       "    </tr>\n",
       "    <tr>\n",
       "      <th>3</th>\n",
       "      <td>3</td>\n",
       "      <td>0.632159</td>\n",
       "      <td>0.738806</td>\n",
       "      <td>0.633708</td>\n",
       "      <td>0.681035</td>\n",
       "    </tr>\n",
       "    <tr>\n",
       "      <th>4</th>\n",
       "      <td>4</td>\n",
       "      <td>0.611922</td>\n",
       "      <td>0.742537</td>\n",
       "      <td>0.618241</td>\n",
       "      <td>0.706897</td>\n",
       "    </tr>\n",
       "  </tbody>\n",
       "</table>\n",
       "</div>"
      ],
      "text/plain": [
       "   index      loss  accuracy  val_loss  val_accuracy\n",
       "0      0  0.718518  0.486940  0.694512      0.517241\n",
       "1      1  0.678583  0.656716  0.669378      0.629310\n",
       "2      2  0.653868  0.708955  0.651572      0.646552\n",
       "3      3  0.632159  0.738806  0.633708      0.681035\n",
       "4      4  0.611922  0.742537  0.618241      0.706897"
      ]
     },
     "execution_count": 21,
     "metadata": {},
     "output_type": "execute_result"
    }
   ],
   "source": [
    "his_df.head()"
   ]
  },
  {
   "cell_type": "code",
   "execution_count": 22,
   "metadata": {},
   "outputs": [
    {
     "data": {
      "text/plain": [
       "<AxesSubplot:>"
      ]
     },
     "execution_count": 22,
     "metadata": {},
     "output_type": "execute_result"
    },
    {
     "data": {
      "image/png": "[encoded data removed]",
      "text/plain": [
       "<Figure size 432x288 with 1 Axes>"
      ]
     },
     "metadata": {
      "needs_background": "light"
     },
     "output_type": "display_data"
    }
   ],
   "source": [
    "sns.lineplot(data=(his_df[\"loss\"],his_df[\"val_loss\"]))"
   ]
  },
  {
   "cell_type": "code",
   "execution_count": 23,
   "metadata": {},
   "outputs": [
    {
     "data": {
      "text/plain": [
       "<AxesSubplot:>"
      ]
     },
     "execution_count": 23,
     "metadata": {},
     "output_type": "execute_result"
    },
    {
     "data": {
      "image/png": "[encoded data removed]",
      "text/plain": [
       "<Figure size 432x288 with 1 Axes>"
      ]
     },
     "metadata": {
      "needs_background": "light"
     },
     "output_type": "display_data"
    }
   ],
   "source": [
    "sns.lineplot(data=(his_df[\"accuracy\"],his_df[\"val_accuracy\"]))"
   ]
  },
  {
   "cell_type": "code",
   "execution_count": 24,
   "metadata": {},
   "outputs": [
    {
     "name": "stdout",
     "output_type": "stream",
     "text": [
      "The best accuracy on the validation set:  0.7758620977401733\n",
      "Epoch:  40\n"
     ]
    }
   ],
   "source": [
    "max_val_acc = max(model_history.history[\"val_accuracy\"])\n",
    "print(\"The best accuracy on the validation set: \",max_val_acc)\n",
    "index = (model_history.history[\"val_accuracy\"]).index(max_val_acc)\n",
    "print(\"Epoch: \",index)"
   ]
  },
  {
   "cell_type": "code",
   "execution_count": 25,
   "metadata": {},
   "outputs": [
    {
     "name": "stdout",
     "output_type": "stream",
     "text": [
      "              precision    recall  f1-score   support\n",
      "\n",
      "           0       0.77      0.91      0.83        74\n",
      "           1       0.76      0.52      0.62        42\n",
      "\n",
      "    accuracy                           0.77       116\n",
      "   macro avg       0.76      0.71      0.73       116\n",
      "weighted avg       0.77      0.77      0.76       116\n",
      "\n"
     ]
    }
   ],
   "source": [
    "y_pred = (model.predict(X_valid) > 0.5).astype(\"int32\")\n",
    "print(classification_report(Y_valid, y_pred))"
   ]
  },
  {
   "cell_type": "markdown",
   "metadata": {},
   "source": [
    "### Report results using nice ROC curves, report AUC values. Feel free to use code form our course, or from elsewhere"
   ]
  },
  {
   "cell_type": "code",
   "execution_count": 26,
   "metadata": {},
   "outputs": [
    {
     "data": {
      "text/plain": [
       "Text(51.0, 0.5, 'Predicted')"
      ]
     },
     "execution_count": 26,
     "metadata": {},
     "output_type": "execute_result"
    },
    {
     "data": {
      "image/png": "[encoded data removed]",
      "text/plain": [
       "<Figure size 576x432 with 2 Axes>"
      ]
     },
     "metadata": {
      "needs_background": "light"
     },
     "output_type": "display_data"
    }
   ],
   "source": [
    "c_mat = confusion_matrix(Y_valid, y_pred)\n",
    "c_mat_df = pd.DataFrame(c_mat)\n",
    "c_mat_df.columns = ['No Diabetes', 'Diabetes']\n",
    "c_mat_df.index = ['No Diabetes', 'Diabetes']\n",
    "c_mat_df = c_mat_df.T\n",
    "plt.figure(figsize = (8,6))\n",
    "sns.heatmap(c_mat_df,annot = True,fmt = 'g')\n",
    "plt.xlabel(\"Actual\")\n",
    "plt.ylabel(\"Predicted\")"
   ]
  },
  {
   "cell_type": "code",
   "execution_count": 27,
   "metadata": {},
   "outputs": [
    {
     "data": {
      "image/png": "[encoded data removed]",
      "text/plain": [
       "<Figure size 432x288 with 1 Axes>"
      ]
     },
     "metadata": {
      "needs_background": "light"
     },
     "output_type": "display_data"
    }
   ],
   "source": [
    "'''Receiver Operator Curve (ROC) and Area under the curve (AUC)'''\n",
    "fpr, tpr, thresholds = roc_curve(Y_valid, model.predict(X_valid))\n",
    "plt.plot([0,1],[0,1],'k--')\n",
    "plt.plot(fpr, tpr, label='DNN')\n",
    "plt.xlabel('FP')\n",
    "plt.ylabel('Sensitivity')\n",
    "plt.title('DNN on validation set')\n",
    "plt.show()"
   ]
  },
  {
   "cell_type": "code",
   "execution_count": 28,
   "metadata": {},
   "outputs": [
    {
     "data": {
      "text/plain": [
       "0.7146074646074645"
      ]
     },
     "execution_count": 28,
     "metadata": {},
     "output_type": "execute_result"
    }
   ],
   "source": [
    "roc_auc_score(Y_valid,y_pred)"
   ]
  },
  {
   "cell_type": "markdown",
   "metadata": {},
   "source": [
    "### Check the accuracy on Test set"
   ]
  },
  {
   "cell_type": "code",
   "execution_count": 29,
   "metadata": {},
   "outputs": [
    {
     "name": "stdout",
     "output_type": "stream",
     "text": [
      "4/4 [==============================] - 0s 506us/step - loss: 0.5253 - accuracy: 0.7759\n"
     ]
    }
   ],
   "source": [
    "acc= model.evaluate(X_test,Y_test)"
   ]
  },
  {
   "cell_type": "code",
   "execution_count": 30,
   "metadata": {},
   "outputs": [
    {
     "name": "stdout",
     "output_type": "stream",
     "text": [
      "              precision    recall  f1-score   support\n",
      "\n",
      "           0       0.83      0.83      0.83        75\n",
      "           1       0.68      0.68      0.68        41\n",
      "\n",
      "    accuracy                           0.78       116\n",
      "   macro avg       0.75      0.75      0.75       116\n",
      "weighted avg       0.78      0.78      0.78       116\n",
      "\n"
     ]
    }
   ],
   "source": [
    "y_test_pred = (model.predict(X_test) > 0.5).astype(\"int32\")\n",
    "print(classification_report(Y_test, y_test_pred))"
   ]
  },
  {
   "cell_type": "code",
   "execution_count": 31,
   "metadata": {},
   "outputs": [
    {
     "data": {
      "text/plain": [
       "Text(51.0, 0.5, 'Predicted')"
      ]
     },
     "execution_count": 31,
     "metadata": {},
     "output_type": "execute_result"
    },
    {
     "data": {
      "image/png": "[encoded data removed]",
      "text/plain": [
       "<Figure size 576x432 with 2 Axes>"
      ]
     },
     "metadata": {
      "needs_background": "light"
     },
     "output_type": "display_data"
    }
   ],
   "source": [
    "c_mat = confusion_matrix(Y_test, y_test_pred)\n",
    "c_mat_df = pd.DataFrame(c_mat)\n",
    "c_mat_df.columns = ['No Diabetes', 'Diabetes']\n",
    "c_mat_df.index = ['No Diabetes', 'Diabetes']\n",
    "c_mat_df = c_mat_df.T\n",
    "plt.figure(figsize = (8,6))\n",
    "sns.heatmap(c_mat_df,annot = True,fmt = 'g')\n",
    "plt.xlabel(\"Actual\")\n",
    "plt.ylabel(\"Predicted\")"
   ]
  },
  {
   "cell_type": "code",
   "execution_count": 32,
   "metadata": {},
   "outputs": [
    {
     "data": {
      "image/png": "[encoded data removed]",
      "text/plain": [
       "<Figure size 432x288 with 1 Axes>"
      ]
     },
     "metadata": {
      "needs_background": "light"
     },
     "output_type": "display_data"
    }
   ],
   "source": [
    "'''Receiver Operator Curve (ROC) and Area under the curve (AUC)'''\n",
    "fpr, tpr, thresholds = roc_curve(Y_test, model.predict(X_test))\n",
    "plt.plot([0,1],[0,1],'k--')\n",
    "plt.plot(fpr, tpr, label='DNN')\n",
    "plt.xlabel('FP')\n",
    "plt.ylabel('Sensitivity')\n",
    "plt.title('DNN on test set')\n",
    "plt.show()"
   ]
  },
  {
   "cell_type": "code",
   "execution_count": 33,
   "metadata": {},
   "outputs": [
    {
     "data": {
      "text/plain": [
       "0.7547967479674798"
      ]
     },
     "execution_count": 33,
     "metadata": {},
     "output_type": "execute_result"
    }
   ],
   "source": [
    "roc_auc_score(Y_test, y_test_pred)"
   ]
  },
  {
   "cell_type": "code",
   "execution_count": 34,
   "metadata": {},
   "outputs": [],
   "source": [
    "conclusion[\"DNN\"] = acc[1]"
   ]
  },
  {
   "cell_type": "markdown",
   "metadata": {},
   "source": [
    "### How would you increase dataset size? Try out at least two approaches and re-evaluate the model performance on this new and augmented dataset."
   ]
  },
  {
   "cell_type": "code",
   "execution_count": 35,
   "metadata": {},
   "outputs": [
    {
     "data": {
      "text/html": [
       "<div>\n",
       "<style scoped>\n",
       "    .dataframe tbody tr th:only-of-type {\n",
       "        vertical-align: middle;\n",
       "    }\n",
       "\n",
       "    .dataframe tbody tr th {\n",
       "        vertical-align: top;\n",
       "    }\n",
       "\n",
       "    .dataframe thead th {\n",
       "        text-align: right;\n",
       "    }\n",
       "</style>\n",
       "<table border=\"1\" class=\"dataframe\">\n",
       "  <thead>\n",
       "    <tr style=\"text-align: right;\">\n",
       "      <th></th>\n",
       "      <th>Pregnancies</th>\n",
       "      <th>Glucose</th>\n",
       "      <th>BloodPressure</th>\n",
       "      <th>SkinThickness</th>\n",
       "      <th>Insulin</th>\n",
       "      <th>BMI</th>\n",
       "      <th>DiabetesPedigreeFunction</th>\n",
       "      <th>Age</th>\n",
       "      <th>Outcome</th>\n",
       "    </tr>\n",
       "  </thead>\n",
       "  <tbody>\n",
       "    <tr>\n",
       "      <th>0</th>\n",
       "      <td>6</td>\n",
       "      <td>148</td>\n",
       "      <td>72</td>\n",
       "      <td>35</td>\n",
       "      <td>0</td>\n",
       "      <td>33.6</td>\n",
       "      <td>0.627</td>\n",
       "      <td>50</td>\n",
       "      <td>1</td>\n",
       "    </tr>\n",
       "    <tr>\n",
       "      <th>1</th>\n",
       "      <td>1</td>\n",
       "      <td>85</td>\n",
       "      <td>66</td>\n",
       "      <td>29</td>\n",
       "      <td>0</td>\n",
       "      <td>26.6</td>\n",
       "      <td>0.351</td>\n",
       "      <td>31</td>\n",
       "      <td>0</td>\n",
       "    </tr>\n",
       "    <tr>\n",
       "      <th>2</th>\n",
       "      <td>8</td>\n",
       "      <td>183</td>\n",
       "      <td>64</td>\n",
       "      <td>0</td>\n",
       "      <td>0</td>\n",
       "      <td>23.3</td>\n",
       "      <td>0.672</td>\n",
       "      <td>32</td>\n",
       "      <td>1</td>\n",
       "    </tr>\n",
       "    <tr>\n",
       "      <th>3</th>\n",
       "      <td>1</td>\n",
       "      <td>89</td>\n",
       "      <td>66</td>\n",
       "      <td>23</td>\n",
       "      <td>94</td>\n",
       "      <td>28.1</td>\n",
       "      <td>0.167</td>\n",
       "      <td>21</td>\n",
       "      <td>0</td>\n",
       "    </tr>\n",
       "    <tr>\n",
       "      <th>4</th>\n",
       "      <td>0</td>\n",
       "      <td>137</td>\n",
       "      <td>40</td>\n",
       "      <td>35</td>\n",
       "      <td>168</td>\n",
       "      <td>43.1</td>\n",
       "      <td>2.288</td>\n",
       "      <td>33</td>\n",
       "      <td>1</td>\n",
       "    </tr>\n",
       "    <tr>\n",
       "      <th>...</th>\n",
       "      <td>...</td>\n",
       "      <td>...</td>\n",
       "      <td>...</td>\n",
       "      <td>...</td>\n",
       "      <td>...</td>\n",
       "      <td>...</td>\n",
       "      <td>...</td>\n",
       "      <td>...</td>\n",
       "      <td>...</td>\n",
       "    </tr>\n",
       "    <tr>\n",
       "      <th>763</th>\n",
       "      <td>10</td>\n",
       "      <td>101</td>\n",
       "      <td>76</td>\n",
       "      <td>48</td>\n",
       "      <td>180</td>\n",
       "      <td>32.9</td>\n",
       "      <td>0.171</td>\n",
       "      <td>63</td>\n",
       "      <td>0</td>\n",
       "    </tr>\n",
       "    <tr>\n",
       "      <th>764</th>\n",
       "      <td>2</td>\n",
       "      <td>122</td>\n",
       "      <td>70</td>\n",
       "      <td>27</td>\n",
       "      <td>0</td>\n",
       "      <td>36.8</td>\n",
       "      <td>0.340</td>\n",
       "      <td>27</td>\n",
       "      <td>0</td>\n",
       "    </tr>\n",
       "    <tr>\n",
       "      <th>765</th>\n",
       "      <td>5</td>\n",
       "      <td>121</td>\n",
       "      <td>72</td>\n",
       "      <td>23</td>\n",
       "      <td>112</td>\n",
       "      <td>26.2</td>\n",
       "      <td>0.245</td>\n",
       "      <td>30</td>\n",
       "      <td>0</td>\n",
       "    </tr>\n",
       "    <tr>\n",
       "      <th>766</th>\n",
       "      <td>1</td>\n",
       "      <td>126</td>\n",
       "      <td>60</td>\n",
       "      <td>0</td>\n",
       "      <td>0</td>\n",
       "      <td>30.1</td>\n",
       "      <td>0.349</td>\n",
       "      <td>47</td>\n",
       "      <td>1</td>\n",
       "    </tr>\n",
       "    <tr>\n",
       "      <th>767</th>\n",
       "      <td>1</td>\n",
       "      <td>93</td>\n",
       "      <td>70</td>\n",
       "      <td>31</td>\n",
       "      <td>0</td>\n",
       "      <td>30.4</td>\n",
       "      <td>0.315</td>\n",
       "      <td>23</td>\n",
       "      <td>0</td>\n",
       "    </tr>\n",
       "  </tbody>\n",
       "</table>\n",
       "<p>768 rows × 9 columns</p>\n",
       "</div>"
      ],
      "text/plain": [
       "     Pregnancies  Glucose  BloodPressure  SkinThickness  Insulin   BMI  \\\n",
       "0              6      148             72             35        0  33.6   \n",
       "1              1       85             66             29        0  26.6   \n",
       "2              8      183             64              0        0  23.3   \n",
       "3              1       89             66             23       94  28.1   \n",
       "4              0      137             40             35      168  43.1   \n",
       "..           ...      ...            ...            ...      ...   ...   \n",
       "763           10      101             76             48      180  32.9   \n",
       "764            2      122             70             27        0  36.8   \n",
       "765            5      121             72             23      112  26.2   \n",
       "766            1      126             60              0        0  30.1   \n",
       "767            1       93             70             31        0  30.4   \n",
       "\n",
       "     DiabetesPedigreeFunction  Age  Outcome  \n",
       "0                       0.627   50        1  \n",
       "1                       0.351   31        0  \n",
       "2                       0.672   32        1  \n",
       "3                       0.167   21        0  \n",
       "4                       2.288   33        1  \n",
       "..                        ...  ...      ...  \n",
       "763                     0.171   63        0  \n",
       "764                     0.340   27        0  \n",
       "765                     0.245   30        0  \n",
       "766                     0.349   47        1  \n",
       "767                     0.315   23        0  \n",
       "\n",
       "[768 rows x 9 columns]"
      ]
     },
     "execution_count": 35,
     "metadata": {},
     "output_type": "execute_result"
    }
   ],
   "source": [
    "df"
   ]
  },
  {
   "cell_type": "markdown",
   "metadata": {},
   "source": [
    "1.Upsampling "
   ]
  },
  {
   "cell_type": "code",
   "execution_count": 36,
   "metadata": {},
   "outputs": [],
   "source": [
    "df_y = df[\"Outcome\"]\n",
    "df_x = df.drop(\"Outcome\", axis=1)"
   ]
  },
  {
   "cell_type": "code",
   "execution_count": 37,
   "metadata": {},
   "outputs": [],
   "source": [
    "from imblearn.over_sampling import SMOTE"
   ]
  },
  {
   "cell_type": "code",
   "execution_count": 38,
   "metadata": {},
   "outputs": [],
   "source": [
    "scaler = preprocessing.StandardScaler()\n",
    "df_x =pd.DataFrame(scaler.fit_transform(df_x))\n",
    "df_x.columns = [\"Pregnancies\",\"Glucose\",\"BloodPressure\",\"SkinThickness\",\"Insulin\",\"BMI\",\"DiabetesPedigreeFunction\",\"Age\"]"
   ]
  },
  {
   "cell_type": "code",
   "execution_count": 39,
   "metadata": {},
   "outputs": [],
   "source": [
    "(X_train_valid, X_test, Y_train_valid, Y_test) = train_test_split(df_x, df_y, test_size=0.15, random_state=1)\n",
    "(X_train, X_valid, Y_train, Y_valid) = train_test_split(X_train_valid,Y_train_valid, test_size=(X_test.shape[0]/X_train_valid.shape[0]), random_state=1)"
   ]
  },
  {
   "cell_type": "code",
   "execution_count": 40,
   "metadata": {},
   "outputs": [
    {
     "name": "stdout",
     "output_type": "stream",
     "text": [
      "(536, 8) (116, 8) (116, 8)\n"
     ]
    }
   ],
   "source": [
    "print(X_train.shape,X_valid.shape,X_test.shape)"
   ]
  },
  {
   "cell_type": "code",
   "execution_count": 41,
   "metadata": {},
   "outputs": [
    {
     "name": "stdout",
     "output_type": "stream",
     "text": [
      "Before UpSampling\n",
      "Counter({0: 351, 1: 185})\n",
      "After UpSampling\n",
      "Counter({0: 351, 1: 351})\n"
     ]
    }
   ],
   "source": [
    "print(\"Before UpSampling\")\n",
    "print(Counter(Y_train))\n",
    "sm = SMOTE(sampling_strategy = 1 ,k_neighbors = 5, random_state=1) \n",
    "X_train_res, y_train_res = sm.fit_sample(X_train, Y_train.ravel())\n",
    "print(\"After UpSampling\")\n",
    "print(Counter(y_train_res))"
   ]
  },
  {
   "cell_type": "code",
   "execution_count": 42,
   "metadata": {},
   "outputs": [
    {
     "data": {
      "text/html": [
       "<div>\n",
       "<style scoped>\n",
       "    .dataframe tbody tr th:only-of-type {\n",
       "        vertical-align: middle;\n",
       "    }\n",
       "\n",
       "    .dataframe tbody tr th {\n",
       "        vertical-align: top;\n",
       "    }\n",
       "\n",
       "    .dataframe thead th {\n",
       "        text-align: right;\n",
       "    }\n",
       "</style>\n",
       "<table border=\"1\" class=\"dataframe\">\n",
       "  <thead>\n",
       "    <tr style=\"text-align: right;\">\n",
       "      <th></th>\n",
       "      <th>Pregnancies</th>\n",
       "      <th>Glucose</th>\n",
       "      <th>BloodPressure</th>\n",
       "      <th>SkinThickness</th>\n",
       "      <th>Insulin</th>\n",
       "      <th>BMI</th>\n",
       "      <th>DiabetesPedigreeFunction</th>\n",
       "      <th>Age</th>\n",
       "    </tr>\n",
       "  </thead>\n",
       "  <tbody>\n",
       "    <tr>\n",
       "      <th>0</th>\n",
       "      <td>-1.141852</td>\n",
       "      <td>0.159787</td>\n",
       "      <td>0.873409</td>\n",
       "      <td>0.405445</td>\n",
       "      <td>0.349057</td>\n",
       "      <td>-0.582887</td>\n",
       "      <td>0.130239</td>\n",
       "      <td>-1.041549</td>\n",
       "    </tr>\n",
       "    <tr>\n",
       "      <th>1</th>\n",
       "      <td>-1.141852</td>\n",
       "      <td>0.410164</td>\n",
       "      <td>-0.574128</td>\n",
       "      <td>-0.033651</td>\n",
       "      <td>1.833832</td>\n",
       "      <td>-0.709806</td>\n",
       "      <td>-0.362041</td>\n",
       "      <td>-1.041549</td>\n",
       "    </tr>\n",
       "    <tr>\n",
       "      <th>2</th>\n",
       "      <td>0.342981</td>\n",
       "      <td>-0.372265</td>\n",
       "      <td>0.304734</td>\n",
       "      <td>0.342717</td>\n",
       "      <td>-0.692891</td>\n",
       "      <td>0.508619</td>\n",
       "      <td>0.223862</td>\n",
       "      <td>2.276873</td>\n",
       "    </tr>\n",
       "    <tr>\n",
       "      <th>3</th>\n",
       "      <td>-1.141852</td>\n",
       "      <td>2.413181</td>\n",
       "      <td>-0.160546</td>\n",
       "      <td>0.719086</td>\n",
       "      <td>1.686223</td>\n",
       "      <td>1.181291</td>\n",
       "      <td>0.090977</td>\n",
       "      <td>-0.445935</td>\n",
       "    </tr>\n",
       "    <tr>\n",
       "      <th>4</th>\n",
       "      <td>0.936914</td>\n",
       "      <td>-0.497453</td>\n",
       "      <td>-3.572597</td>\n",
       "      <td>-1.288212</td>\n",
       "      <td>-0.692891</td>\n",
       "      <td>-4.060474</td>\n",
       "      <td>-0.503986</td>\n",
       "      <td>-0.786286</td>\n",
       "    </tr>\n",
       "    <tr>\n",
       "      <th>...</th>\n",
       "      <td>...</td>\n",
       "      <td>...</td>\n",
       "      <td>...</td>\n",
       "      <td>...</td>\n",
       "      <td>...</td>\n",
       "      <td>...</td>\n",
       "      <td>...</td>\n",
       "      <td>...</td>\n",
       "    </tr>\n",
       "    <tr>\n",
       "      <th>697</th>\n",
       "      <td>0.639947</td>\n",
       "      <td>1.186096</td>\n",
       "      <td>-0.168348</td>\n",
       "      <td>-1.288212</td>\n",
       "      <td>-0.692891</td>\n",
       "      <td>-0.835208</td>\n",
       "      <td>-0.887541</td>\n",
       "      <td>1.425995</td>\n",
       "    </tr>\n",
       "    <tr>\n",
       "      <th>698</th>\n",
       "      <td>-0.245366</td>\n",
       "      <td>0.330449</td>\n",
       "      <td>0.072580</td>\n",
       "      <td>-1.288212</td>\n",
       "      <td>-0.692891</td>\n",
       "      <td>-0.434532</td>\n",
       "      <td>0.077935</td>\n",
       "      <td>-0.741341</td>\n",
       "    </tr>\n",
       "    <tr>\n",
       "      <th>699</th>\n",
       "      <td>-1.141852</td>\n",
       "      <td>-0.442582</td>\n",
       "      <td>-0.358832</td>\n",
       "      <td>0.629747</td>\n",
       "      <td>-0.057498</td>\n",
       "      <td>0.553451</td>\n",
       "      <td>0.799748</td>\n",
       "      <td>-0.722195</td>\n",
       "    </tr>\n",
       "    <tr>\n",
       "      <th>700</th>\n",
       "      <td>-0.000834</td>\n",
       "      <td>1.905899</td>\n",
       "      <td>0.345648</td>\n",
       "      <td>1.138391</td>\n",
       "      <td>1.641043</td>\n",
       "      <td>0.585483</td>\n",
       "      <td>-0.583978</td>\n",
       "      <td>-0.204095</td>\n",
       "    </tr>\n",
       "    <tr>\n",
       "      <th>701</th>\n",
       "      <td>0.467406</td>\n",
       "      <td>-0.238420</td>\n",
       "      <td>0.166394</td>\n",
       "      <td>0.570325</td>\n",
       "      <td>-0.692891</td>\n",
       "      <td>0.219821</td>\n",
       "      <td>0.368225</td>\n",
       "      <td>0.078378</td>\n",
       "    </tr>\n",
       "  </tbody>\n",
       "</table>\n",
       "<p>702 rows × 8 columns</p>\n",
       "</div>"
      ],
      "text/plain": [
       "     Pregnancies   Glucose  BloodPressure  SkinThickness   Insulin       BMI  \\\n",
       "0      -1.141852  0.159787       0.873409       0.405445  0.349057 -0.582887   \n",
       "1      -1.141852  0.410164      -0.574128      -0.033651  1.833832 -0.709806   \n",
       "2       0.342981 -0.372265       0.304734       0.342717 -0.692891  0.508619   \n",
       "3      -1.141852  2.413181      -0.160546       0.719086  1.686223  1.181291   \n",
       "4       0.936914 -0.497453      -3.572597      -1.288212 -0.692891 -4.060474   \n",
       "..           ...       ...            ...            ...       ...       ...   \n",
       "697     0.639947  1.186096      -0.168348      -1.288212 -0.692891 -0.835208   \n",
       "698    -0.245366  0.330449       0.072580      -1.288212 -0.692891 -0.434532   \n",
       "699    -1.141852 -0.442582      -0.358832       0.629747 -0.057498  0.553451   \n",
       "700    -0.000834  1.905899       0.345648       1.138391  1.641043  0.585483   \n",
       "701     0.467406 -0.238420       0.166394       0.570325 -0.692891  0.219821   \n",
       "\n",
       "     DiabetesPedigreeFunction       Age  \n",
       "0                    0.130239 -1.041549  \n",
       "1                   -0.362041 -1.041549  \n",
       "2                    0.223862  2.276873  \n",
       "3                    0.090977 -0.445935  \n",
       "4                   -0.503986 -0.786286  \n",
       "..                        ...       ...  \n",
       "697                 -0.887541  1.425995  \n",
       "698                  0.077935 -0.741341  \n",
       "699                  0.799748 -0.722195  \n",
       "700                 -0.583978 -0.204095  \n",
       "701                  0.368225  0.078378  \n",
       "\n",
       "[702 rows x 8 columns]"
      ]
     },
     "execution_count": 42,
     "metadata": {},
     "output_type": "execute_result"
    }
   ],
   "source": [
    "X_train_res"
   ]
  },
  {
   "cell_type": "code",
   "execution_count": 43,
   "metadata": {},
   "outputs": [],
   "source": [
    "model = Sequential()\n",
    "model.add(Dense(15, input_dim=X_train_res.shape[1], activation='relu'))\n",
    "model.add(Dense(6, activation='relu'))\n",
    "model.add(Dense(1, activation='sigmoid'))\n",
    "model.compile(loss='binary_crossentropy', optimizer='adam', metrics=['accuracy'])"
   ]
  },
  {
   "cell_type": "code",
   "execution_count": 44,
   "metadata": {},
   "outputs": [
    {
     "name": "stdout",
     "output_type": "stream",
     "text": [
      "Epoch 1/50\n",
      "141/141 [==============================] - 0s 1ms/step - loss: 0.6689 - accuracy: 0.5655 - val_loss: 0.6459 - val_accuracy: 0.5603\n",
      "Epoch 2/50\n",
      "141/141 [==============================] - 0s 566us/step - loss: 0.5835 - accuracy: 0.7165 - val_loss: 0.5989 - val_accuracy: 0.6466\n",
      "Epoch 3/50\n",
      "141/141 [==============================] - 0s 615us/step - loss: 0.5322 - accuracy: 0.7450 - val_loss: 0.5762 - val_accuracy: 0.6638\n",
      "Epoch 4/50\n",
      "141/141 [==============================] - 0s 587us/step - loss: 0.5081 - accuracy: 0.7407 - val_loss: 0.5678 - val_accuracy: 0.6552\n",
      "Epoch 5/50\n",
      "141/141 [==============================] - 0s 580us/step - loss: 0.4972 - accuracy: 0.7507 - val_loss: 0.5592 - val_accuracy: 0.6552\n",
      "Epoch 6/50\n",
      "141/141 [==============================] - 0s 799us/step - loss: 0.4908 - accuracy: 0.7507 - val_loss: 0.5577 - val_accuracy: 0.6724\n",
      "Epoch 7/50\n",
      "141/141 [==============================] - 0s 601us/step - loss: 0.4861 - accuracy: 0.7621 - val_loss: 0.5551 - val_accuracy: 0.6638\n",
      "Epoch 8/50\n",
      "141/141 [==============================] - 0s 566us/step - loss: 0.4822 - accuracy: 0.7621 - val_loss: 0.5534 - val_accuracy: 0.6724\n",
      "Epoch 9/50\n",
      "141/141 [==============================] - 0s 573us/step - loss: 0.4788 - accuracy: 0.7635 - val_loss: 0.5498 - val_accuracy: 0.6810\n",
      "Epoch 10/50\n",
      "141/141 [==============================] - 0s 566us/step - loss: 0.4760 - accuracy: 0.7607 - val_loss: 0.5541 - val_accuracy: 0.6724\n",
      "Epoch 11/50\n",
      "141/141 [==============================] - 0s 573us/step - loss: 0.4737 - accuracy: 0.7650 - val_loss: 0.5484 - val_accuracy: 0.6983\n",
      "Epoch 12/50\n",
      "141/141 [==============================] - 0s 573us/step - loss: 0.4714 - accuracy: 0.7664 - val_loss: 0.5462 - val_accuracy: 0.6983\n",
      "Epoch 13/50\n",
      "141/141 [==============================] - 0s 588us/step - loss: 0.4692 - accuracy: 0.7735 - val_loss: 0.5490 - val_accuracy: 0.7069\n",
      "Epoch 14/50\n",
      "141/141 [==============================] - 0s 601us/step - loss: 0.4673 - accuracy: 0.7735 - val_loss: 0.5483 - val_accuracy: 0.7069\n",
      "Epoch 15/50\n",
      "141/141 [==============================] - 0s 570us/step - loss: 0.4659 - accuracy: 0.7778 - val_loss: 0.5510 - val_accuracy: 0.7069\n",
      "Epoch 16/50\n",
      "141/141 [==============================] - 0s 563us/step - loss: 0.4633 - accuracy: 0.7792 - val_loss: 0.5532 - val_accuracy: 0.7069\n",
      "Epoch 17/50\n",
      "141/141 [==============================] - 0s 566us/step - loss: 0.4622 - accuracy: 0.7735 - val_loss: 0.5508 - val_accuracy: 0.6983\n",
      "Epoch 18/50\n",
      "141/141 [==============================] - 0s 573us/step - loss: 0.4603 - accuracy: 0.7792 - val_loss: 0.5484 - val_accuracy: 0.7155\n",
      "Epoch 19/50\n",
      "141/141 [==============================] - 0s 587us/step - loss: 0.4585 - accuracy: 0.7863 - val_loss: 0.5533 - val_accuracy: 0.7069\n",
      "Epoch 20/50\n",
      "141/141 [==============================] - 0s 570us/step - loss: 0.4569 - accuracy: 0.7821 - val_loss: 0.5515 - val_accuracy: 0.7155\n",
      "Epoch 21/50\n",
      "141/141 [==============================] - 0s 566us/step - loss: 0.4564 - accuracy: 0.7835 - val_loss: 0.5505 - val_accuracy: 0.7155\n",
      "Epoch 22/50\n",
      "141/141 [==============================] - 0s 587us/step - loss: 0.4541 - accuracy: 0.7821 - val_loss: 0.5480 - val_accuracy: 0.7241\n",
      "Epoch 23/50\n",
      "141/141 [==============================] - 0s 566us/step - loss: 0.4523 - accuracy: 0.7821 - val_loss: 0.5450 - val_accuracy: 0.7155\n",
      "Epoch 24/50\n",
      "141/141 [==============================] - 0s 566us/step - loss: 0.4513 - accuracy: 0.7821 - val_loss: 0.5484 - val_accuracy: 0.7155\n",
      "Epoch 25/50\n",
      "141/141 [==============================] - 0s 566us/step - loss: 0.4501 - accuracy: 0.7849 - val_loss: 0.5490 - val_accuracy: 0.7328\n",
      "Epoch 26/50\n",
      "141/141 [==============================] - 0s 573us/step - loss: 0.4489 - accuracy: 0.7963 - val_loss: 0.5540 - val_accuracy: 0.7241\n",
      "Epoch 27/50\n",
      "141/141 [==============================] - 0s 566us/step - loss: 0.4459 - accuracy: 0.7892 - val_loss: 0.5503 - val_accuracy: 0.7328\n",
      "Epoch 28/50\n",
      "141/141 [==============================] - 0s 559us/step - loss: 0.4443 - accuracy: 0.7863 - val_loss: 0.5562 - val_accuracy: 0.7241\n",
      "Epoch 29/50\n",
      "141/141 [==============================] - 0s 566us/step - loss: 0.4436 - accuracy: 0.7849 - val_loss: 0.5538 - val_accuracy: 0.7328\n",
      "Epoch 30/50\n",
      "141/141 [==============================] - 0s 566us/step - loss: 0.4423 - accuracy: 0.7906 - val_loss: 0.5531 - val_accuracy: 0.7241\n",
      "Epoch 31/50\n",
      "141/141 [==============================] - 0s 573us/step - loss: 0.4403 - accuracy: 0.7892 - val_loss: 0.5560 - val_accuracy: 0.7414\n",
      "Epoch 32/50\n",
      "141/141 [==============================] - 0s 623us/step - loss: 0.4392 - accuracy: 0.7892 - val_loss: 0.5539 - val_accuracy: 0.7328\n",
      "Epoch 33/50\n",
      "141/141 [==============================] - 0s 566us/step - loss: 0.4379 - accuracy: 0.7949 - val_loss: 0.5586 - val_accuracy: 0.7414\n",
      "Epoch 34/50\n",
      "141/141 [==============================] - 0s 566us/step - loss: 0.4365 - accuracy: 0.7906 - val_loss: 0.5587 - val_accuracy: 0.7414\n",
      "Epoch 35/50\n",
      "141/141 [==============================] - 0s 559us/step - loss: 0.4350 - accuracy: 0.8006 - val_loss: 0.5533 - val_accuracy: 0.7414\n",
      "Epoch 36/50\n",
      "141/141 [==============================] - 0s 573us/step - loss: 0.4333 - accuracy: 0.7934 - val_loss: 0.5597 - val_accuracy: 0.7328\n",
      "Epoch 37/50\n",
      "141/141 [==============================] - 0s 585us/step - loss: 0.4328 - accuracy: 0.7963 - val_loss: 0.5591 - val_accuracy: 0.7155\n",
      "Epoch 38/50\n",
      "141/141 [==============================] - 0s 578us/step - loss: 0.4319 - accuracy: 0.8034 - val_loss: 0.5566 - val_accuracy: 0.7328\n",
      "Epoch 39/50\n",
      "141/141 [==============================] - 0s 573us/step - loss: 0.4297 - accuracy: 0.7977 - val_loss: 0.5642 - val_accuracy: 0.7414\n",
      "Epoch 40/50\n",
      "141/141 [==============================] - 0s 559us/step - loss: 0.4294 - accuracy: 0.7949 - val_loss: 0.5568 - val_accuracy: 0.7414\n",
      "Epoch 41/50\n",
      "141/141 [==============================] - 0s 573us/step - loss: 0.4268 - accuracy: 0.7991 - val_loss: 0.5566 - val_accuracy: 0.7328\n",
      "Epoch 42/50\n",
      "141/141 [==============================] - 0s 573us/step - loss: 0.4260 - accuracy: 0.8006 - val_loss: 0.5545 - val_accuracy: 0.7328\n",
      "Epoch 43/50\n",
      "141/141 [==============================] - 0s 573us/step - loss: 0.4252 - accuracy: 0.8048 - val_loss: 0.5457 - val_accuracy: 0.7414\n",
      "Epoch 44/50\n",
      "141/141 [==============================] - 0s 587us/step - loss: 0.4237 - accuracy: 0.7991 - val_loss: 0.5530 - val_accuracy: 0.7328\n",
      "Epoch 45/50\n",
      "141/141 [==============================] - 0s 566us/step - loss: 0.4218 - accuracy: 0.8006 - val_loss: 0.5567 - val_accuracy: 0.7414\n",
      "Epoch 46/50\n",
      "141/141 [==============================] - 0s 573us/step - loss: 0.4218 - accuracy: 0.8006 - val_loss: 0.5556 - val_accuracy: 0.7414\n",
      "Epoch 47/50\n",
      "141/141 [==============================] - 0s 573us/step - loss: 0.4204 - accuracy: 0.7991 - val_loss: 0.5483 - val_accuracy: 0.7672\n",
      "Epoch 48/50\n",
      "141/141 [==============================] - 0s 573us/step - loss: 0.4197 - accuracy: 0.8006 - val_loss: 0.5584 - val_accuracy: 0.7672\n",
      "Epoch 49/50\n",
      "141/141 [==============================] - 0s 566us/step - loss: 0.4186 - accuracy: 0.8091 - val_loss: 0.5567 - val_accuracy: 0.7759\n",
      "Epoch 50/50\n",
      "141/141 [==============================] - 0s 573us/step - loss: 0.4166 - accuracy: 0.8048 - val_loss: 0.5574 - val_accuracy: 0.7759\n"
     ]
    },
    {
     "data": {
      "text/plain": [
       "<tensorflow.python.keras.callbacks.History at 0x22793f3a908>"
      ]
     },
     "execution_count": 44,
     "metadata": {},
     "output_type": "execute_result"
    }
   ],
   "source": [
    "model.fit(X_train_res,  y_train_res, validation_data=(X_valid, Y_valid),epochs=50, batch_size=5)"
   ]
  },
  {
   "cell_type": "code",
   "execution_count": 45,
   "metadata": {},
   "outputs": [
    {
     "name": "stdout",
     "output_type": "stream",
     "text": [
      "              precision    recall  f1-score   support\n",
      "\n",
      "           0       0.81      0.85      0.83        74\n",
      "           1       0.71      0.64      0.67        42\n",
      "\n",
      "    accuracy                           0.78       116\n",
      "   macro avg       0.76      0.75      0.75       116\n",
      "weighted avg       0.77      0.78      0.77       116\n",
      "\n"
     ]
    }
   ],
   "source": [
    "y_pred = (model.predict(X_valid) > 0.5).astype(\"int32\")\n",
    "print(classification_report(Y_valid, y_pred))"
   ]
  },
  {
   "cell_type": "code",
   "execution_count": 46,
   "metadata": {},
   "outputs": [
    {
     "data": {
      "text/plain": [
       "Text(51.0, 0.5, 'Predicted')"
      ]
     },
     "execution_count": 46,
     "metadata": {},
     "output_type": "execute_result"
    },
    {
     "data": {
      "image/png": "[encoded data removed]",
      "text/plain": [
       "<Figure size 576x432 with 2 Axes>"
      ]
     },
     "metadata": {
      "needs_background": "light"
     },
     "output_type": "display_data"
    }
   ],
   "source": [
    "c_mat = confusion_matrix(Y_valid, y_pred)\n",
    "c_mat_df = pd.DataFrame(c_mat)\n",
    "c_mat_df.columns = ['No Diabetes', 'Diabetes']\n",
    "c_mat_df.index = ['No Diabetes', 'Diabetes']\n",
    "c_mat_df = c_mat_df.T\n",
    "plt.figure(figsize = (8,6))\n",
    "sns.heatmap(c_mat_df,annot = True,fmt = 'g')\n",
    "plt.xlabel(\"Actual\")\n",
    "plt.ylabel(\"Predicted\")"
   ]
  },
  {
   "cell_type": "code",
   "execution_count": 47,
   "metadata": {},
   "outputs": [
    {
     "data": {
      "image/png": "[encoded data removed]",
      "text/plain": [
       "<Figure size 432x288 with 1 Axes>"
      ]
     },
     "metadata": {
      "needs_background": "light"
     },
     "output_type": "display_data"
    }
   ],
   "source": [
    "'''Receiver Operator Curve (ROC) and Area under the curve (AUC)'''\n",
    "fpr, tpr, thresholds = roc_curve(Y_valid, model.predict(X_valid))\n",
    "plt.plot([0,1],[0,1],'k--')\n",
    "plt.plot(fpr, tpr, label='DNN')\n",
    "plt.xlabel('FP')\n",
    "plt.ylabel('Sensitivity')\n",
    "plt.title('DNN on validation set after upsampling')\n",
    "plt.show()"
   ]
  },
  {
   "cell_type": "code",
   "execution_count": 48,
   "metadata": {},
   "outputs": [
    {
     "name": "stdout",
     "output_type": "stream",
     "text": [
      "1/4 [======>.......................] - ETA: 0s - loss: 0.4313 - accuracy: 0.7188WARNING:tensorflow:Callbacks method `on_test_batch_end` is slow compared to the batch time (batch time: 0.0000s vs `on_test_batch_end` time: 0.0010s). Check your callbacks.\n",
      "4/4 [==============================] - 0s 739us/step - loss: 0.5275 - accuracy: 0.7328\n"
     ]
    }
   ],
   "source": [
    "acc = model.evaluate(X_test,Y_test)"
   ]
  },
  {
   "cell_type": "code",
   "execution_count": 49,
   "metadata": {},
   "outputs": [
    {
     "name": "stdout",
     "output_type": "stream",
     "text": [
      "              precision    recall  f1-score   support\n",
      "\n",
      "           0       0.83      0.73      0.78        75\n",
      "           1       0.60      0.73      0.66        41\n",
      "\n",
      "    accuracy                           0.73       116\n",
      "   macro avg       0.72      0.73      0.72       116\n",
      "weighted avg       0.75      0.73      0.74       116\n",
      "\n"
     ]
    }
   ],
   "source": [
    "y_test_pred = (model.predict(X_test) > 0.5).astype(\"int32\")\n",
    "print(classification_report(Y_test, y_test_pred))"
   ]
  },
  {
   "cell_type": "code",
   "execution_count": 50,
   "metadata": {},
   "outputs": [
    {
     "data": {
      "text/plain": [
       "Text(51.0, 0.5, 'Predicted')"
      ]
     },
     "execution_count": 50,
     "metadata": {},
     "output_type": "execute_result"
    },
    {
     "data": {
      "image/png": "[encoded data removed]",
      "text/plain": [
       "<Figure size 576x432 with 2 Axes>"
      ]
     },
     "metadata": {
      "needs_background": "light"
     },
     "output_type": "display_data"
    }
   ],
   "source": [
    "c_mat = confusion_matrix(Y_test, y_test_pred)\n",
    "c_mat_df = pd.DataFrame(c_mat)\n",
    "c_mat_df.columns = ['No Diabetes', 'Diabetes']\n",
    "c_mat_df.index = ['No Diabetes', 'Diabetes']\n",
    "c_mat_df = c_mat_df.T\n",
    "plt.figure(figsize = (8,6))\n",
    "sns.heatmap(c_mat_df,annot = True,fmt = 'g')\n",
    "plt.xlabel(\"Actual\")\n",
    "plt.ylabel(\"Predicted\")"
   ]
  },
  {
   "cell_type": "code",
   "execution_count": 51,
   "metadata": {},
   "outputs": [
    {
     "data": {
      "image/png": "[encoded data removed]",
      "text/plain": [
       "<Figure size 432x288 with 1 Axes>"
      ]
     },
     "metadata": {
      "needs_background": "light"
     },
     "output_type": "display_data"
    }
   ],
   "source": [
    "'''Receiver Operator Curve (ROC) and Area under the curve (AUC)'''\n",
    "fpr, tpr, thresholds = roc_curve(Y_test, model.predict(X_test))\n",
    "plt.plot([0,1],[0,1],'k--')\n",
    "plt.plot(fpr, tpr, label='DNN')\n",
    "plt.xlabel('FP')\n",
    "plt.ylabel('Sensitivity')\n",
    "plt.title('DNN on test set after upsampling')\n",
    "plt.show()"
   ]
  },
  {
   "cell_type": "code",
   "execution_count": 52,
   "metadata": {},
   "outputs": [
    {
     "data": {
      "text/plain": [
       "0.732520325203252"
      ]
     },
     "execution_count": 52,
     "metadata": {},
     "output_type": "execute_result"
    }
   ],
   "source": [
    "roc_auc_score(Y_test, y_test_pred)"
   ]
  },
  {
   "cell_type": "code",
   "execution_count": 53,
   "metadata": {},
   "outputs": [],
   "source": [
    "conclusion[\"DNN-UpSampling\"] = acc[1]"
   ]
  },
  {
   "cell_type": "markdown",
   "metadata": {},
   "source": [
    "2. Downsampling"
   ]
  },
  {
   "cell_type": "code",
   "execution_count": 54,
   "metadata": {},
   "outputs": [],
   "source": [
    "df_y = df[\"Outcome\"]\n",
    "df_x = df.drop(\"Outcome\", axis=1)"
   ]
  },
  {
   "cell_type": "code",
   "execution_count": 55,
   "metadata": {},
   "outputs": [],
   "source": [
    "from imblearn.under_sampling import RandomUnderSampler"
   ]
  },
  {
   "cell_type": "code",
   "execution_count": 56,
   "metadata": {},
   "outputs": [
    {
     "data": {
      "text/plain": [
       "Counter({1: 268, 0: 500})"
      ]
     },
     "execution_count": 56,
     "metadata": {},
     "output_type": "execute_result"
    }
   ],
   "source": [
    "Counter(df_y)"
   ]
  },
  {
   "cell_type": "code",
   "execution_count": 57,
   "metadata": {},
   "outputs": [],
   "source": [
    "scaler = preprocessing.StandardScaler()\n",
    "df_x =pd.DataFrame(scaler.fit_transform(df_x))\n",
    "df_x.columns = [\"Pregnancies\",\"Glucose\",\"BloodPressure\",\"SkinThickness\",\"Insulin\",\"BMI\",\"DiabetesPedigreeFunction\",\"Age\"]"
   ]
  },
  {
   "cell_type": "code",
   "execution_count": 58,
   "metadata": {},
   "outputs": [],
   "source": [
    "(X_train_valid, X_test, Y_train_valid, Y_test) = train_test_split(df_x, df_y, test_size=0.15, random_state=1)\n",
    "(X_train, X_valid, Y_train, Y_valid) = train_test_split(X_train_valid,Y_train_valid, test_size=(X_test.shape[0]/X_train_valid.shape[0]), random_state=1)"
   ]
  },
  {
   "cell_type": "code",
   "execution_count": 59,
   "metadata": {},
   "outputs": [
    {
     "name": "stdout",
     "output_type": "stream",
     "text": [
      "(536, 8) (536,)\n",
      "(116, 8) (116,)\n",
      "(116, 8) (116,)\n"
     ]
    }
   ],
   "source": [
    "print(X_train.shape,Y_train.shape)\n",
    "print(X_valid.shape,Y_valid.shape)\n",
    "print(X_test.shape,Y_test.shape)"
   ]
  },
  {
   "cell_type": "code",
   "execution_count": 60,
   "metadata": {},
   "outputs": [
    {
     "name": "stdout",
     "output_type": "stream",
     "text": [
      "Before DownSampling\n",
      "Counter({0: 351, 1: 185})\n",
      "After DownSampling\n",
      "Counter({0: 185, 1: 185})\n"
     ]
    }
   ],
   "source": [
    "print(\"Before DownSampling\")\n",
    "print(Counter(Y_train))\n",
    "rus = RandomUnderSampler()\n",
    "X_train_ds, Y_train_ds = rus.fit_resample(X_train, Y_train)\n",
    "print(\"After DownSampling\")\n",
    "print(Counter(Y_train_ds))"
   ]
  },
  {
   "cell_type": "code",
   "execution_count": 61,
   "metadata": {},
   "outputs": [
    {
     "data": {
      "text/html": [
       "<div>\n",
       "<style scoped>\n",
       "    .dataframe tbody tr th:only-of-type {\n",
       "        vertical-align: middle;\n",
       "    }\n",
       "\n",
       "    .dataframe tbody tr th {\n",
       "        vertical-align: top;\n",
       "    }\n",
       "\n",
       "    .dataframe thead th {\n",
       "        text-align: right;\n",
       "    }\n",
       "</style>\n",
       "<table border=\"1\" class=\"dataframe\">\n",
       "  <thead>\n",
       "    <tr style=\"text-align: right;\">\n",
       "      <th></th>\n",
       "      <th>Pregnancies</th>\n",
       "      <th>Glucose</th>\n",
       "      <th>BloodPressure</th>\n",
       "      <th>SkinThickness</th>\n",
       "      <th>Insulin</th>\n",
       "      <th>BMI</th>\n",
       "      <th>DiabetesPedigreeFunction</th>\n",
       "      <th>Age</th>\n",
       "    </tr>\n",
       "  </thead>\n",
       "  <tbody>\n",
       "    <tr>\n",
       "      <th>0</th>\n",
       "      <td>-1.141852</td>\n",
       "      <td>-0.747831</td>\n",
       "      <td>-0.263941</td>\n",
       "      <td>0.969998</td>\n",
       "      <td>0.175399</td>\n",
       "      <td>0.610154</td>\n",
       "      <td>0.386949</td>\n",
       "      <td>-0.701198</td>\n",
       "    </tr>\n",
       "    <tr>\n",
       "      <th>1</th>\n",
       "      <td>-0.844885</td>\n",
       "      <td>-0.059293</td>\n",
       "      <td>-1.297896</td>\n",
       "      <td>1.660007</td>\n",
       "      <td>-0.145868</td>\n",
       "      <td>0.445159</td>\n",
       "      <td>-0.579489</td>\n",
       "      <td>-0.701198</td>\n",
       "    </tr>\n",
       "    <tr>\n",
       "      <th>2</th>\n",
       "      <td>0.342981</td>\n",
       "      <td>-1.498962</td>\n",
       "      <td>-0.470732</td>\n",
       "      <td>-1.288212</td>\n",
       "      <td>-0.692891</td>\n",
       "      <td>-0.659038</td>\n",
       "      <td>-0.615731</td>\n",
       "      <td>-0.531023</td>\n",
       "    </tr>\n",
       "    <tr>\n",
       "      <th>3</th>\n",
       "      <td>-0.844885</td>\n",
       "      <td>-1.279882</td>\n",
       "      <td>0.253036</td>\n",
       "      <td>-0.598204</td>\n",
       "      <td>-0.171917</td>\n",
       "      <td>-0.252897</td>\n",
       "      <td>0.166480</td>\n",
       "      <td>-0.956462</td>\n",
       "    </tr>\n",
       "    <tr>\n",
       "      <th>4</th>\n",
       "      <td>-0.250952</td>\n",
       "      <td>-0.153185</td>\n",
       "      <td>-3.572597</td>\n",
       "      <td>-1.288212</td>\n",
       "      <td>-0.692891</td>\n",
       "      <td>-1.077872</td>\n",
       "      <td>-0.860360</td>\n",
       "      <td>-0.871374</td>\n",
       "    </tr>\n",
       "    <tr>\n",
       "      <th>...</th>\n",
       "      <td>...</td>\n",
       "      <td>...</td>\n",
       "      <td>...</td>\n",
       "      <td>...</td>\n",
       "      <td>...</td>\n",
       "      <td>...</td>\n",
       "      <td>...</td>\n",
       "      <td>...</td>\n",
       "    </tr>\n",
       "    <tr>\n",
       "      <th>365</th>\n",
       "      <td>0.936914</td>\n",
       "      <td>-0.560048</td>\n",
       "      <td>-0.160546</td>\n",
       "      <td>0.719086</td>\n",
       "      <td>-0.692891</td>\n",
       "      <td>0.902069</td>\n",
       "      <td>-0.386202</td>\n",
       "      <td>-0.190672</td>\n",
       "    </tr>\n",
       "    <tr>\n",
       "      <th>366</th>\n",
       "      <td>-0.844885</td>\n",
       "      <td>2.350587</td>\n",
       "      <td>0.356432</td>\n",
       "      <td>0.969998</td>\n",
       "      <td>1.469151</td>\n",
       "      <td>0.572079</td>\n",
       "      <td>1.217481</td>\n",
       "      <td>-0.360847</td>\n",
       "    </tr>\n",
       "    <tr>\n",
       "      <th>367</th>\n",
       "      <td>-0.844885</td>\n",
       "      <td>0.222381</td>\n",
       "      <td>-1.091105</td>\n",
       "      <td>1.534551</td>\n",
       "      <td>0.991591</td>\n",
       "      <td>1.079756</td>\n",
       "      <td>0.426210</td>\n",
       "      <td>-0.786286</td>\n",
       "    </tr>\n",
       "    <tr>\n",
       "      <th>368</th>\n",
       "      <td>-1.141852</td>\n",
       "      <td>-0.497453</td>\n",
       "      <td>0.770014</td>\n",
       "      <td>-1.288212</td>\n",
       "      <td>-0.692891</td>\n",
       "      <td>-0.519427</td>\n",
       "      <td>0.812786</td>\n",
       "      <td>2.447048</td>\n",
       "    </tr>\n",
       "    <tr>\n",
       "      <th>369</th>\n",
       "      <td>0.342981</td>\n",
       "      <td>0.566649</td>\n",
       "      <td>0.563223</td>\n",
       "      <td>0.907270</td>\n",
       "      <td>0.696373</td>\n",
       "      <td>-0.049826</td>\n",
       "      <td>-0.334860</td>\n",
       "      <td>-0.701198</td>\n",
       "    </tr>\n",
       "  </tbody>\n",
       "</table>\n",
       "<p>370 rows × 8 columns</p>\n",
       "</div>"
      ],
      "text/plain": [
       "     Pregnancies   Glucose  BloodPressure  SkinThickness   Insulin       BMI  \\\n",
       "0      -1.141852 -0.747831      -0.263941       0.969998  0.175399  0.610154   \n",
       "1      -0.844885 -0.059293      -1.297896       1.660007 -0.145868  0.445159   \n",
       "2       0.342981 -1.498962      -0.470732      -1.288212 -0.692891 -0.659038   \n",
       "3      -0.844885 -1.279882       0.253036      -0.598204 -0.171917 -0.252897   \n",
       "4      -0.250952 -0.153185      -3.572597      -1.288212 -0.692891 -1.077872   \n",
       "..           ...       ...            ...            ...       ...       ...   \n",
       "365     0.936914 -0.560048      -0.160546       0.719086 -0.692891  0.902069   \n",
       "366    -0.844885  2.350587       0.356432       0.969998  1.469151  0.572079   \n",
       "367    -0.844885  0.222381      -1.091105       1.534551  0.991591  1.079756   \n",
       "368    -1.141852 -0.497453       0.770014      -1.288212 -0.692891 -0.519427   \n",
       "369     0.342981  0.566649       0.563223       0.907270  0.696373 -0.049826   \n",
       "\n",
       "     DiabetesPedigreeFunction       Age  \n",
       "0                    0.386949 -0.701198  \n",
       "1                   -0.579489 -0.701198  \n",
       "2                   -0.615731 -0.531023  \n",
       "3                    0.166480 -0.956462  \n",
       "4                   -0.860360 -0.871374  \n",
       "..                        ...       ...  \n",
       "365                 -0.386202 -0.190672  \n",
       "366                  1.217481 -0.360847  \n",
       "367                  0.426210 -0.786286  \n",
       "368                  0.812786  2.447048  \n",
       "369                 -0.334860 -0.701198  \n",
       "\n",
       "[370 rows x 8 columns]"
      ]
     },
     "execution_count": 61,
     "metadata": {},
     "output_type": "execute_result"
    }
   ],
   "source": [
    "X_train_ds"
   ]
  },
  {
   "cell_type": "code",
   "execution_count": 62,
   "metadata": {},
   "outputs": [],
   "source": [
    "model = Sequential()\n",
    "model.add(Dense(15, input_dim=X_train_ds.shape[1], activation='relu'))\n",
    "model.add(Dense(6, activation='relu'))\n",
    "model.add(Dense(1, activation='sigmoid'))\n",
    "model.compile(loss='binary_crossentropy', optimizer='adam', metrics=['accuracy'])"
   ]
  },
  {
   "cell_type": "code",
   "execution_count": 63,
   "metadata": {},
   "outputs": [
    {
     "name": "stdout",
     "output_type": "stream",
     "text": [
      "Epoch 1/50\n",
      "74/74 [==============================] - 0s 2ms/step - loss: 0.6998 - accuracy: 0.5243 - val_loss: 0.6926 - val_accuracy: 0.5000\n",
      "Epoch 2/50\n",
      "74/74 [==============================] - 0s 633us/step - loss: 0.6600 - accuracy: 0.6541 - val_loss: 0.6636 - val_accuracy: 0.5862\n",
      "Epoch 3/50\n",
      "74/74 [==============================] - 0s 674us/step - loss: 0.6180 - accuracy: 0.7189 - val_loss: 0.6355 - val_accuracy: 0.6034\n",
      "Epoch 4/50\n",
      "74/74 [==============================] - 0s 660us/step - loss: 0.5745 - accuracy: 0.7568 - val_loss: 0.6049 - val_accuracy: 0.6466\n",
      "Epoch 5/50\n",
      "74/74 [==============================] - 0s 674us/step - loss: 0.5372 - accuracy: 0.7595 - val_loss: 0.5799 - val_accuracy: 0.6897\n",
      "Epoch 6/50\n",
      "74/74 [==============================] - 0s 1ms/step - loss: 0.5124 - accuracy: 0.7730 - val_loss: 0.5616 - val_accuracy: 0.6810\n",
      "Epoch 7/50\n",
      "74/74 [==============================] - 0s 741us/step - loss: 0.4975 - accuracy: 0.7676 - val_loss: 0.5471 - val_accuracy: 0.6724\n",
      "Epoch 8/50\n",
      "74/74 [==============================] - 0s 669us/step - loss: 0.4869 - accuracy: 0.7784 - val_loss: 0.5406 - val_accuracy: 0.6724\n",
      "Epoch 9/50\n",
      "74/74 [==============================] - 0s 660us/step - loss: 0.4779 - accuracy: 0.7838 - val_loss: 0.5322 - val_accuracy: 0.6810\n",
      "Epoch 10/50\n",
      "74/74 [==============================] - 0s 660us/step - loss: 0.4739 - accuracy: 0.7730 - val_loss: 0.5246 - val_accuracy: 0.7069\n",
      "Epoch 11/50\n",
      "74/74 [==============================] - 0s 660us/step - loss: 0.4690 - accuracy: 0.7811 - val_loss: 0.5267 - val_accuracy: 0.6897\n",
      "Epoch 12/50\n",
      "74/74 [==============================] - 0s 660us/step - loss: 0.4653 - accuracy: 0.7757 - val_loss: 0.5207 - val_accuracy: 0.6897\n",
      "Epoch 13/50\n",
      "74/74 [==============================] - 0s 661us/step - loss: 0.4617 - accuracy: 0.7811 - val_loss: 0.5210 - val_accuracy: 0.7069\n",
      "Epoch 14/50\n",
      "74/74 [==============================] - 0s 667us/step - loss: 0.4591 - accuracy: 0.7784 - val_loss: 0.5191 - val_accuracy: 0.6983\n",
      "Epoch 15/50\n",
      "74/74 [==============================] - 0s 633us/step - loss: 0.4571 - accuracy: 0.7892 - val_loss: 0.5180 - val_accuracy: 0.6983\n",
      "Epoch 16/50\n",
      "74/74 [==============================] - 0s 683us/step - loss: 0.4540 - accuracy: 0.7919 - val_loss: 0.5167 - val_accuracy: 0.7069\n",
      "Epoch 17/50\n",
      "74/74 [==============================] - 0s 647us/step - loss: 0.4517 - accuracy: 0.7946 - val_loss: 0.5194 - val_accuracy: 0.7069\n",
      "Epoch 18/50\n",
      "74/74 [==============================] - 0s 647us/step - loss: 0.4499 - accuracy: 0.8027 - val_loss: 0.5221 - val_accuracy: 0.7069\n",
      "Epoch 19/50\n",
      "74/74 [==============================] - 0s 660us/step - loss: 0.4489 - accuracy: 0.7973 - val_loss: 0.5186 - val_accuracy: 0.7069\n",
      "Epoch 20/50\n",
      "74/74 [==============================] - 0s 660us/step - loss: 0.4471 - accuracy: 0.8027 - val_loss: 0.5214 - val_accuracy: 0.6983\n",
      "Epoch 21/50\n",
      "74/74 [==============================] - 0s 674us/step - loss: 0.4452 - accuracy: 0.8054 - val_loss: 0.5179 - val_accuracy: 0.7069\n",
      "Epoch 22/50\n",
      "74/74 [==============================] - 0s 660us/step - loss: 0.4436 - accuracy: 0.8081 - val_loss: 0.5191 - val_accuracy: 0.7069\n",
      "Epoch 23/50\n",
      "74/74 [==============================] - 0s 660us/step - loss: 0.4421 - accuracy: 0.8081 - val_loss: 0.5212 - val_accuracy: 0.6983\n",
      "Epoch 24/50\n",
      "74/74 [==============================] - 0s 674us/step - loss: 0.4410 - accuracy: 0.8108 - val_loss: 0.5191 - val_accuracy: 0.7155\n",
      "Epoch 25/50\n",
      "74/74 [==============================] - 0s 674us/step - loss: 0.4384 - accuracy: 0.8081 - val_loss: 0.5228 - val_accuracy: 0.7069\n",
      "Epoch 26/50\n",
      "74/74 [==============================] - 0s 687us/step - loss: 0.4379 - accuracy: 0.8054 - val_loss: 0.5199 - val_accuracy: 0.7069\n",
      "Epoch 27/50\n",
      "74/74 [==============================] - 0s 687us/step - loss: 0.4359 - accuracy: 0.8108 - val_loss: 0.5211 - val_accuracy: 0.7069\n",
      "Epoch 28/50\n",
      "74/74 [==============================] - 0s 660us/step - loss: 0.4342 - accuracy: 0.8081 - val_loss: 0.5259 - val_accuracy: 0.7069\n",
      "Epoch 29/50\n",
      "74/74 [==============================] - 0s 660us/step - loss: 0.4322 - accuracy: 0.8108 - val_loss: 0.5222 - val_accuracy: 0.7069\n",
      "Epoch 30/50\n",
      "74/74 [==============================] - 0s 674us/step - loss: 0.4293 - accuracy: 0.8108 - val_loss: 0.5273 - val_accuracy: 0.7069\n",
      "Epoch 31/50\n",
      "74/74 [==============================] - 0s 674us/step - loss: 0.4283 - accuracy: 0.8081 - val_loss: 0.5316 - val_accuracy: 0.7155\n",
      "Epoch 32/50\n",
      "74/74 [==============================] - 0s 660us/step - loss: 0.4265 - accuracy: 0.8162 - val_loss: 0.5287 - val_accuracy: 0.7069\n",
      "Epoch 33/50\n",
      "74/74 [==============================] - 0s 674us/step - loss: 0.4258 - accuracy: 0.8162 - val_loss: 0.5327 - val_accuracy: 0.7155\n",
      "Epoch 34/50\n",
      "74/74 [==============================] - 0s 660us/step - loss: 0.4230 - accuracy: 0.8108 - val_loss: 0.5335 - val_accuracy: 0.7155\n",
      "Epoch 35/50\n",
      "74/74 [==============================] - 0s 660us/step - loss: 0.4226 - accuracy: 0.8162 - val_loss: 0.5384 - val_accuracy: 0.7155\n",
      "Epoch 36/50\n",
      "74/74 [==============================] - 0s 647us/step - loss: 0.4205 - accuracy: 0.8135 - val_loss: 0.5349 - val_accuracy: 0.7069\n",
      "Epoch 37/50\n",
      "74/74 [==============================] - 0s 673us/step - loss: 0.4191 - accuracy: 0.8189 - val_loss: 0.5365 - val_accuracy: 0.7069\n",
      "Epoch 38/50\n",
      "74/74 [==============================] - 0s 669us/step - loss: 0.4174 - accuracy: 0.8189 - val_loss: 0.5343 - val_accuracy: 0.7069\n",
      "Epoch 39/50\n",
      "74/74 [==============================] - 0s 728us/step - loss: 0.4157 - accuracy: 0.8162 - val_loss: 0.5372 - val_accuracy: 0.6983\n",
      "Epoch 40/50\n",
      "74/74 [==============================] - 0s 876us/step - loss: 0.4148 - accuracy: 0.8189 - val_loss: 0.5374 - val_accuracy: 0.6983\n",
      "Epoch 41/50\n",
      "74/74 [==============================] - 0s 822us/step - loss: 0.4132 - accuracy: 0.8189 - val_loss: 0.5386 - val_accuracy: 0.7069\n",
      "Epoch 42/50\n",
      "74/74 [==============================] - 0s 755us/step - loss: 0.4115 - accuracy: 0.8243 - val_loss: 0.5443 - val_accuracy: 0.7155\n",
      "Epoch 43/50\n",
      "74/74 [==============================] - 0s 738us/step - loss: 0.4099 - accuracy: 0.8216 - val_loss: 0.5461 - val_accuracy: 0.7155\n",
      "Epoch 44/50\n",
      "74/74 [==============================] - 0s 687us/step - loss: 0.4091 - accuracy: 0.8189 - val_loss: 0.5456 - val_accuracy: 0.7069\n",
      "Epoch 45/50\n",
      "74/74 [==============================] - 0s 741us/step - loss: 0.4081 - accuracy: 0.8243 - val_loss: 0.5500 - val_accuracy: 0.7155\n",
      "Epoch 46/50\n",
      "74/74 [==============================] - 0s 755us/step - loss: 0.4053 - accuracy: 0.8189 - val_loss: 0.5466 - val_accuracy: 0.7069\n",
      "Epoch 47/50\n",
      "74/74 [==============================] - 0s 728us/step - loss: 0.4032 - accuracy: 0.8189 - val_loss: 0.5532 - val_accuracy: 0.7069\n",
      "Epoch 48/50\n",
      "74/74 [==============================] - 0s 768us/step - loss: 0.4009 - accuracy: 0.8243 - val_loss: 0.5564 - val_accuracy: 0.7069\n",
      "Epoch 49/50\n",
      "74/74 [==============================] - 0s 728us/step - loss: 0.3994 - accuracy: 0.8216 - val_loss: 0.5592 - val_accuracy: 0.7155\n",
      "Epoch 50/50\n",
      "74/74 [==============================] - 0s 633us/step - loss: 0.3974 - accuracy: 0.8216 - val_loss: 0.5576 - val_accuracy: 0.7069\n"
     ]
    },
    {
     "data": {
      "text/plain": [
       "<tensorflow.python.keras.callbacks.History at 0x22793f3a788>"
      ]
     },
     "execution_count": 63,
     "metadata": {},
     "output_type": "execute_result"
    }
   ],
   "source": [
    "model.fit(X_train_ds, Y_train_ds, validation_data=(X_valid, Y_valid),epochs=50, batch_size=5)"
   ]
  },
  {
   "cell_type": "code",
   "execution_count": 64,
   "metadata": {},
   "outputs": [
    {
     "name": "stdout",
     "output_type": "stream",
     "text": [
      "              precision    recall  f1-score   support\n",
      "\n",
      "           0       0.80      0.72      0.76        74\n",
      "           1       0.58      0.69      0.63        42\n",
      "\n",
      "    accuracy                           0.71       116\n",
      "   macro avg       0.69      0.70      0.69       116\n",
      "weighted avg       0.72      0.71      0.71       116\n",
      "\n"
     ]
    }
   ],
   "source": [
    "y_pred = (model.predict(X_valid) > 0.5).astype(\"int32\")\n",
    "print(classification_report(Y_valid, y_pred))"
   ]
  },
  {
   "cell_type": "code",
   "execution_count": 65,
   "metadata": {},
   "outputs": [
    {
     "data": {
      "text/plain": [
       "Text(51.0, 0.5, 'Predicted')"
      ]
     },
     "execution_count": 65,
     "metadata": {},
     "output_type": "execute_result"
    },
    {
     "data": {
      "image/png": "[encoded data removed]",
      "text/plain": [
       "<Figure size 576x432 with 2 Axes>"
      ]
     },
     "metadata": {
      "needs_background": "light"
     },
     "output_type": "display_data"
    }
   ],
   "source": [
    "c_mat = confusion_matrix(Y_valid, y_pred)\n",
    "c_mat_df = pd.DataFrame(c_mat)\n",
    "c_mat_df.columns = ['No Diabetes', 'Diabetes']\n",
    "c_mat_df.index = ['No Diabetes', 'Diabetes']\n",
    "c_mat_df = c_mat_df.T\n",
    "plt.figure(figsize = (8,6))\n",
    "sns.heatmap(c_mat_df,annot = True,fmt = 'g')\n",
    "plt.xlabel(\"Actual\")\n",
    "plt.ylabel(\"Predicted\")"
   ]
  },
  {
   "cell_type": "code",
   "execution_count": 66,
   "metadata": {},
   "outputs": [
    {
     "data": {
      "image/png": "[encoded data removed]",
      "text/plain": [
       "<Figure size 432x288 with 1 Axes>"
      ]
     },
     "metadata": {
      "needs_background": "light"
     },
     "output_type": "display_data"
    }
   ],
   "source": [
    "'''Receiver Operator Curve (ROC) and Area under the curve (AUC)'''\n",
    "fpr, tpr, thresholds = roc_curve(Y_valid, model.predict(X_valid))\n",
    "plt.plot([0,1],[0,1],'k--')\n",
    "plt.plot(fpr, tpr, label='DNN')\n",
    "plt.xlabel('FP')\n",
    "plt.ylabel('Sensitivity')\n",
    "plt.title('DNN on validation set after downsampling')\n",
    "plt.show()"
   ]
  },
  {
   "cell_type": "code",
   "execution_count": 67,
   "metadata": {},
   "outputs": [
    {
     "name": "stdout",
     "output_type": "stream",
     "text": [
      "4/4 [==============================] - 0s 748us/step - loss: 0.4981 - accuracy: 0.7586\n"
     ]
    }
   ],
   "source": [
    "acc = model.evaluate(X_test,Y_test)"
   ]
  },
  {
   "cell_type": "code",
   "execution_count": 68,
   "metadata": {},
   "outputs": [
    {
     "name": "stdout",
     "output_type": "stream",
     "text": [
      "              precision    recall  f1-score   support\n",
      "\n",
      "           0       0.85      0.76      0.80        75\n",
      "           1       0.63      0.76      0.69        41\n",
      "\n",
      "    accuracy                           0.76       116\n",
      "   macro avg       0.74      0.76      0.75       116\n",
      "weighted avg       0.77      0.76      0.76       116\n",
      "\n"
     ]
    }
   ],
   "source": [
    "y_test_pred = (model.predict(X_test) > 0.5).astype(\"int32\")\n",
    "print(classification_report(Y_test, y_test_pred))"
   ]
  },
  {
   "cell_type": "code",
   "execution_count": 69,
   "metadata": {},
   "outputs": [
    {
     "data": {
      "text/plain": [
       "Text(51.0, 0.5, 'Predicted')"
      ]
     },
     "execution_count": 69,
     "metadata": {},
     "output_type": "execute_result"
    },
    {
     "data": {
      "image/png": "[encoded data removed]",
      "text/plain": [
       "<Figure size 576x432 with 2 Axes>"
      ]
     },
     "metadata": {
      "needs_background": "light"
     },
     "output_type": "display_data"
    }
   ],
   "source": [
    "c_mat = confusion_matrix(Y_test, y_test_pred)\n",
    "c_mat_df = pd.DataFrame(c_mat)\n",
    "c_mat_df.columns = ['No Diabetes', 'Diabetes']\n",
    "c_mat_df.index = ['No Diabetes', 'Diabetes']\n",
    "c_mat_df = c_mat_df.T\n",
    "plt.figure(figsize = (8,6))\n",
    "sns.heatmap(c_mat_df,annot = True,fmt = 'g')\n",
    "plt.xlabel(\"Actual\")\n",
    "plt.ylabel(\"Predicted\")"
   ]
  },
  {
   "cell_type": "code",
   "execution_count": 70,
   "metadata": {},
   "outputs": [
    {
     "data": {
      "image/png": "[encoded data removed]",
      "text/plain": [
       "<Figure size 432x288 with 1 Axes>"
      ]
     },
     "metadata": {
      "needs_background": "light"
     },
     "output_type": "display_data"
    }
   ],
   "source": [
    "'''Receiver Operator Curve (ROC) and Area under the curve (AUC)'''\n",
    "fpr, tpr, thresholds = roc_curve(Y_test, model.predict(X_test))\n",
    "plt.plot([0,1],[0,1],'k--')\n",
    "plt.plot(fpr, tpr, label='DNN')\n",
    "plt.xlabel('FP')\n",
    "plt.ylabel('Sensitivity')\n",
    "plt.title('DNN on test set after downsampling')\n",
    "plt.show()"
   ]
  },
  {
   "cell_type": "code",
   "execution_count": 71,
   "metadata": {},
   "outputs": [
    {
     "data": {
      "text/plain": [
       "0.7580487804878049"
      ]
     },
     "execution_count": 71,
     "metadata": {},
     "output_type": "execute_result"
    }
   ],
   "source": [
    "roc_auc_score(Y_test, y_test_pred)"
   ]
  },
  {
   "cell_type": "code",
   "execution_count": 72,
   "metadata": {},
   "outputs": [],
   "source": [
    "conclusion[\"DNN-DownSampling\"] = acc[1]"
   ]
  },
  {
   "cell_type": "markdown",
   "metadata": {},
   "source": [
    "### Conclusion - Result Comparisons"
   ]
  },
  {
   "cell_type": "code",
   "execution_count": 75,
   "metadata": {},
   "outputs": [
    {
     "data": {
      "text/plain": [
       "{'DNN': 0.7758620977401733,\n",
       " 'DNN-UpSampling': 0.732758641242981,\n",
       " 'DNN-DownSampling': 0.7586206793785095}"
      ]
     },
     "execution_count": 75,
     "metadata": {},
     "output_type": "execute_result"
    }
   ],
   "source": [
    "conclusion"
   ]
  },
  {
   "cell_type": "code",
   "execution_count": 74,
   "metadata": {},
   "outputs": [
    {
     "data": {
      "image/png": "[encoded data removed]",
      "text/plain": [
       "<Figure size 432x288 with 1 Axes>"
      ]
     },
     "metadata": {
      "needs_background": "light"
     },
     "output_type": "display_data"
    }
   ],
   "source": [
    "plt.bar(conclusion.keys(), conclusion.values(), align='center', alpha=0.5)\n",
    "plt.xticks(rotation=45)\n",
    "plt.title('Result Comparisons')\n",
    "\n",
    "plt.show()"
   ]
  },
  {
   "cell_type": "code",
   "execution_count": null,
   "metadata": {},
   "outputs": [],
   "source": []
  }
 ],
 "metadata": {
  "kernelspec": {
   "display_name": "Python 3",
   "language": "python",
   "name": "python3"
  },
  "language_info": {
   "codemirror_mode": {
    "name": "ipython",
    "version": 3
   },
   "file_extension": ".py",
   "mimetype": "text/x-python",
   "name": "python",
   "nbconvert_exporter": "python",
   "pygments_lexer": "ipython3",
   "version": "3.7.7"
  }
 },
 "nbformat": 4,
 "nbformat_minor": 4
}
