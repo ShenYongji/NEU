{
 "cells": [
  {
   "cell_type": "markdown",
   "metadata": {},
   "source": [
    "Instructions:\n",
    "\n",
    "All of you should submit the work. Your should attach\n",
    "\n",
    "1) A Power Point Presentation (PPT) - Describing all the steps, processes, model performance etc.. that you have done in the project.\n",
    "\n",
    "2) Executable Code as  an (.ipnb file). \n",
    "\n",
    "Note:\n",
    "\n",
    "A) Other documents are not required. If you think any other file/reference will help us getting more idea of your work, you can attach those files also. But, 1&2 are mandatory. \n",
    "\n",
    "B) All the members in the project should submit the work on Canvas. On the first slide, please mention the names of all the Team members. "
   ]
  },
  {
   "cell_type": "code",
   "execution_count": null,
   "metadata": {},
   "outputs": [],
   "source": []
  }
 ],
 "metadata": {
  "kernelspec": {
   "display_name": "Python 3",
   "language": "python",
   "name": "python3"
  }
 },
 "nbformat": 4,
 "nbformat_minor": 4
}
